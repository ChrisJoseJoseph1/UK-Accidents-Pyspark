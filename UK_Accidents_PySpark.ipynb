{
  "cells": [
    {
      "cell_type": "code",
      "execution_count": null,
      "id": "97cec358",
      "metadata": {
        "id": "97cec358"
      },
      "outputs": [],
      "source": [
        "import pyspark"
      ]
    },
    {
      "cell_type": "code",
      "execution_count": null,
      "id": "5cc18704",
      "metadata": {
        "id": "5cc18704"
      },
      "outputs": [],
      "source": [
        "from pyspark.context import SparkContext, SparkConf\n",
        "from pyspark.sql import SparkSession"
      ]
    },
    {
      "cell_type": "code",
      "execution_count": null,
      "id": "5cb467f2",
      "metadata": {
        "id": "5cb467f2"
      },
      "outputs": [],
      "source": [
        "spark = SparkSession.builder.appName('pyspark').getOrCreate()"
      ]
    },
    {
      "cell_type": "code",
      "execution_count": null,
      "id": "7edf816b",
      "metadata": {
        "id": "7edf816b"
      },
      "outputs": [],
      "source": [
        "accidents = spark.read.csv('C:/Users/HP/Downloads/accidentsuk/Accidents0514.csv',header=True)\n",
        "casualities = spark.read.csv('C:/Users/HP/Downloads/accidentsuk/Casualties0514.csv',header=True)\n",
        "vehicles = spark.read.csv('C:/Users/HP/Downloads/accidentsuk/Vehicles0514.csv',header=True)"
      ]
    },
    {
      "cell_type": "code",
      "execution_count": null,
      "id": "ce313b53",
      "metadata": {
        "scrolled": false,
        "id": "ce313b53",
        "outputId": "08cc3b49-a2ff-4860-8a05-cba2dc3a0c18"
      },
      "outputs": [
        {
          "name": "stdout",
          "output_type": "stream",
          "text": [
            "root\n",
            " |-- Accident_Index: string (nullable = true)\n",
            " |-- Location_Easting_OSGR: string (nullable = true)\n",
            " |-- Location_Northing_OSGR: string (nullable = true)\n",
            " |-- Longitude: string (nullable = true)\n",
            " |-- Latitude: string (nullable = true)\n",
            " |-- Police_Force: string (nullable = true)\n",
            " |-- Accident_Severity: string (nullable = true)\n",
            " |-- Number_of_Vehicles: string (nullable = true)\n",
            " |-- Number_of_Casualties: string (nullable = true)\n",
            " |-- Date: string (nullable = true)\n",
            " |-- Day_of_Week: string (nullable = true)\n",
            " |-- Time: string (nullable = true)\n",
            " |-- Local_Authority_(District): string (nullable = true)\n",
            " |-- Local_Authority_(Highway): string (nullable = true)\n",
            " |-- 1st_Road_Class: string (nullable = true)\n",
            " |-- 1st_Road_Number: string (nullable = true)\n",
            " |-- Road_Type: string (nullable = true)\n",
            " |-- Speed_limit: string (nullable = true)\n",
            " |-- Junction_Detail: string (nullable = true)\n",
            " |-- Junction_Control: string (nullable = true)\n",
            " |-- 2nd_Road_Class: string (nullable = true)\n",
            " |-- 2nd_Road_Number: string (nullable = true)\n",
            " |-- Pedestrian_Crossing-Human_Control: string (nullable = true)\n",
            " |-- Pedestrian_Crossing-Physical_Facilities: string (nullable = true)\n",
            " |-- Light_Conditions: string (nullable = true)\n",
            " |-- Weather_Conditions: string (nullable = true)\n",
            " |-- Road_Surface_Conditions: string (nullable = true)\n",
            " |-- Special_Conditions_at_Site: string (nullable = true)\n",
            " |-- Carriageway_Hazards: string (nullable = true)\n",
            " |-- Urban_or_Rural_Area: string (nullable = true)\n",
            " |-- Did_Police_Officer_Attend_Scene_of_Accident: string (nullable = true)\n",
            " |-- LSOA_of_Accident_Location: string (nullable = true)\n",
            "\n"
          ]
        }
      ],
      "source": [
        "accidents.printSchema()"
      ]
    },
    {
      "cell_type": "code",
      "execution_count": null,
      "id": "d787dda7",
      "metadata": {
        "id": "d787dda7"
      },
      "outputs": [],
      "source": [
        "accidents= accidents.drop('LSOA_of_Accident_Location')"
      ]
    },
    {
      "cell_type": "code",
      "execution_count": null,
      "id": "5ebbb92b",
      "metadata": {
        "scrolled": false,
        "id": "5ebbb92b"
      },
      "outputs": [],
      "source": [
        "#Dropping - 'Location_Easting_OSGR','Location_Northing_OSGR', 'Longitude', 'Latitude','Time'\n",
        "accidents = accidents.drop('Location_Easting_OSGR','Location_Northing_OSGR', 'Longitude', 'Latitude','Time')\n",
        "#accidents.printSchema()"
      ]
    },
    {
      "cell_type": "code",
      "execution_count": null,
      "id": "ceb7cac3",
      "metadata": {
        "scrolled": true,
        "id": "ceb7cac3",
        "outputId": "a22c3fda-8862-4f2f-fe1d-a771d96fdfa9"
      },
      "outputs": [
        {
          "name": "stdout",
          "output_type": "stream",
          "text": [
            "root\n",
            " |-- Accident_Index: string (nullable = true)\n",
            " |-- Vehicle_Reference: string (nullable = true)\n",
            " |-- Casualty_Reference: string (nullable = true)\n",
            " |-- Casualty_Class: string (nullable = true)\n",
            " |-- Sex_of_Casualty: string (nullable = true)\n",
            " |-- Age_of_Casualty: string (nullable = true)\n",
            " |-- Age_Band_of_Casualty: string (nullable = true)\n",
            " |-- Casualty_Severity: string (nullable = true)\n",
            " |-- Pedestrian_Location: string (nullable = true)\n",
            " |-- Pedestrian_Movement: string (nullable = true)\n",
            " |-- Car_Passenger: string (nullable = true)\n",
            " |-- Bus_or_Coach_Passenger: string (nullable = true)\n",
            " |-- Pedestrian_Road_Maintenance_Worker: string (nullable = true)\n",
            " |-- Casualty_Type: string (nullable = true)\n",
            " |-- Casualty_Home_Area_Type: string (nullable = true)\n",
            "\n"
          ]
        }
      ],
      "source": [
        "casualities.printSchema()"
      ]
    },
    {
      "cell_type": "code",
      "execution_count": null,
      "id": "9fc7d11f",
      "metadata": {
        "scrolled": false,
        "id": "9fc7d11f",
        "outputId": "8b106961-73ef-430d-9156-b90d95d64d17"
      },
      "outputs": [
        {
          "name": "stdout",
          "output_type": "stream",
          "text": [
            "root\n",
            " |-- Accident_Index: string (nullable = true)\n",
            " |-- Vehicle_Reference: string (nullable = true)\n",
            " |-- Vehicle_Type: string (nullable = true)\n",
            " |-- Towing_and_Articulation: string (nullable = true)\n",
            " |-- Vehicle_Manoeuvre: string (nullable = true)\n",
            " |-- Vehicle_Location-Restricted_Lane: string (nullable = true)\n",
            " |-- Junction_Location: string (nullable = true)\n",
            " |-- Skidding_and_Overturning: string (nullable = true)\n",
            " |-- Hit_Object_in_Carriageway: string (nullable = true)\n",
            " |-- Vehicle_Leaving_Carriageway: string (nullable = true)\n",
            " |-- Hit_Object_off_Carriageway: string (nullable = true)\n",
            " |-- 1st_Point_of_Impact: string (nullable = true)\n",
            " |-- Was_Vehicle_Left_Hand_Drive?: string (nullable = true)\n",
            " |-- Journey_Purpose_of_Driver: string (nullable = true)\n",
            " |-- Sex_of_Driver: string (nullable = true)\n",
            " |-- Age_of_Driver: string (nullable = true)\n",
            " |-- Age_Band_of_Driver: string (nullable = true)\n",
            " |-- Engine_Capacity_(CC): string (nullable = true)\n",
            " |-- Propulsion_Code: string (nullable = true)\n",
            " |-- Age_of_Vehicle: string (nullable = true)\n",
            " |-- Driver_IMD_Decile: string (nullable = true)\n",
            " |-- Driver_Home_Area_Type: string (nullable = true)\n",
            "\n"
          ]
        }
      ],
      "source": [
        "vehicles.printSchema()"
      ]
    },
    {
      "cell_type": "code",
      "execution_count": null,
      "id": "a3fb42df",
      "metadata": {
        "scrolled": false,
        "id": "a3fb42df"
      },
      "outputs": [],
      "source": [
        "casualities = casualities.withColumnRenamed(\"Accident_Index\",\"Accident_Index_Casualties\")\n",
        "#casualities.show(5)"
      ]
    },
    {
      "cell_type": "code",
      "execution_count": null,
      "id": "42a7fb16",
      "metadata": {
        "scrolled": false,
        "id": "42a7fb16"
      },
      "outputs": [],
      "source": [
        "vehicles = vehicles.withColumnRenamed(\"Accident_Index\",\"Accident_Index_Vehicles\")\n",
        "#vehicles.show(5)"
      ]
    },
    {
      "cell_type": "code",
      "execution_count": null,
      "id": "212df22c",
      "metadata": {
        "scrolled": false,
        "id": "212df22c"
      },
      "outputs": [],
      "source": [
        "vehicles = vehicles.withColumnRenamed(\"Vehicle_Reference\",\"Veh_Ref\")\n",
        "#vehicles.show(5)"
      ]
    },
    {
      "cell_type": "code",
      "execution_count": null,
      "id": "d6597448",
      "metadata": {
        "id": "d6597448"
      },
      "outputs": [],
      "source": [
        "accidents = accidents.join(casualities,accidents.Accident_Index ==  casualities.Accident_Index_Casualties)"
      ]
    },
    {
      "cell_type": "code",
      "execution_count": null,
      "id": "02239957",
      "metadata": {
        "scrolled": false,
        "id": "02239957"
      },
      "outputs": [],
      "source": [
        "#accidents.show(5)"
      ]
    },
    {
      "cell_type": "code",
      "execution_count": null,
      "id": "6aa3da3b",
      "metadata": {
        "id": "6aa3da3b"
      },
      "outputs": [],
      "source": [
        "accidents = accidents.join(vehicles,accidents.Accident_Index ==  vehicles.Accident_Index_Vehicles)"
      ]
    },
    {
      "cell_type": "code",
      "execution_count": null,
      "id": "2d30c432",
      "metadata": {
        "scrolled": false,
        "id": "2d30c432"
      },
      "outputs": [],
      "source": [
        "#accidents.show(5)"
      ]
    },
    {
      "cell_type": "code",
      "execution_count": null,
      "id": "47cbe349",
      "metadata": {
        "scrolled": false,
        "id": "47cbe349",
        "outputId": "6bbf52b5-41d3-4493-b5f7-cb8be4be2e18"
      },
      "outputs": [
        {
          "name": "stdout",
          "output_type": "stream",
          "text": [
            "root\n",
            " |-- Accident_Index: string (nullable = true)\n",
            " |-- Police_Force: string (nullable = true)\n",
            " |-- Accident_Severity: string (nullable = true)\n",
            " |-- Number_of_Vehicles: string (nullable = true)\n",
            " |-- Number_of_Casualties: string (nullable = true)\n",
            " |-- Date: string (nullable = true)\n",
            " |-- Day_of_Week: string (nullable = true)\n",
            " |-- Local_Authority_(District): string (nullable = true)\n",
            " |-- Local_Authority_(Highway): string (nullable = true)\n",
            " |-- 1st_Road_Class: string (nullable = true)\n",
            " |-- 1st_Road_Number: string (nullable = true)\n",
            " |-- Road_Type: string (nullable = true)\n",
            " |-- Speed_limit: string (nullable = true)\n",
            " |-- Junction_Detail: string (nullable = true)\n",
            " |-- Junction_Control: string (nullable = true)\n",
            " |-- 2nd_Road_Class: string (nullable = true)\n",
            " |-- 2nd_Road_Number: string (nullable = true)\n",
            " |-- Pedestrian_Crossing-Human_Control: string (nullable = true)\n",
            " |-- Pedestrian_Crossing-Physical_Facilities: string (nullable = true)\n",
            " |-- Light_Conditions: string (nullable = true)\n",
            " |-- Weather_Conditions: string (nullable = true)\n",
            " |-- Road_Surface_Conditions: string (nullable = true)\n",
            " |-- Special_Conditions_at_Site: string (nullable = true)\n",
            " |-- Carriageway_Hazards: string (nullable = true)\n",
            " |-- Urban_or_Rural_Area: string (nullable = true)\n",
            " |-- Did_Police_Officer_Attend_Scene_of_Accident: string (nullable = true)\n",
            " |-- Accident_Index_Casualties: string (nullable = true)\n",
            " |-- Vehicle_Reference: string (nullable = true)\n",
            " |-- Casualty_Reference: string (nullable = true)\n",
            " |-- Casualty_Class: string (nullable = true)\n",
            " |-- Sex_of_Casualty: string (nullable = true)\n",
            " |-- Age_of_Casualty: string (nullable = true)\n",
            " |-- Age_Band_of_Casualty: string (nullable = true)\n",
            " |-- Casualty_Severity: string (nullable = true)\n",
            " |-- Pedestrian_Location: string (nullable = true)\n",
            " |-- Pedestrian_Movement: string (nullable = true)\n",
            " |-- Car_Passenger: string (nullable = true)\n",
            " |-- Bus_or_Coach_Passenger: string (nullable = true)\n",
            " |-- Pedestrian_Road_Maintenance_Worker: string (nullable = true)\n",
            " |-- Casualty_Type: string (nullable = true)\n",
            " |-- Casualty_Home_Area_Type: string (nullable = true)\n",
            " |-- Accident_Index_Vehicles: string (nullable = true)\n",
            " |-- Veh_Ref: string (nullable = true)\n",
            " |-- Vehicle_Type: string (nullable = true)\n",
            " |-- Towing_and_Articulation: string (nullable = true)\n",
            " |-- Vehicle_Manoeuvre: string (nullable = true)\n",
            " |-- Vehicle_Location-Restricted_Lane: string (nullable = true)\n",
            " |-- Junction_Location: string (nullable = true)\n",
            " |-- Skidding_and_Overturning: string (nullable = true)\n",
            " |-- Hit_Object_in_Carriageway: string (nullable = true)\n",
            " |-- Vehicle_Leaving_Carriageway: string (nullable = true)\n",
            " |-- Hit_Object_off_Carriageway: string (nullable = true)\n",
            " |-- 1st_Point_of_Impact: string (nullable = true)\n",
            " |-- Was_Vehicle_Left_Hand_Drive?: string (nullable = true)\n",
            " |-- Journey_Purpose_of_Driver: string (nullable = true)\n",
            " |-- Sex_of_Driver: string (nullable = true)\n",
            " |-- Age_of_Driver: string (nullable = true)\n",
            " |-- Age_Band_of_Driver: string (nullable = true)\n",
            " |-- Engine_Capacity_(CC): string (nullable = true)\n",
            " |-- Propulsion_Code: string (nullable = true)\n",
            " |-- Age_of_Vehicle: string (nullable = true)\n",
            " |-- Driver_IMD_Decile: string (nullable = true)\n",
            " |-- Driver_Home_Area_Type: string (nullable = true)\n",
            "\n"
          ]
        }
      ],
      "source": [
        "accidents.printSchema()"
      ]
    },
    {
      "cell_type": "code",
      "execution_count": null,
      "id": "286195d7",
      "metadata": {
        "id": "286195d7"
      },
      "outputs": [],
      "source": [
        "accidents = accidents.drop(\"Accident_Index_Casualties\",\"Accident_Index_Vehicles\",\"Veh_Ref\")"
      ]
    },
    {
      "cell_type": "code",
      "execution_count": null,
      "id": "4da5e143",
      "metadata": {
        "scrolled": false,
        "id": "4da5e143"
      },
      "outputs": [],
      "source": [
        "#accidents.printSchema()"
      ]
    },
    {
      "cell_type": "code",
      "execution_count": null,
      "id": "ecceaece",
      "metadata": {
        "id": "ecceaece"
      },
      "outputs": [],
      "source": [
        "from pyspark.sql.functions import col\n",
        "from pyspark.sql.types import IntegerType,DateType\n",
        "accidents = accidents.withColumn(\"Police_Force\",col(\"Police_Force\").cast(IntegerType()))\n",
        "accidents = accidents.withColumn(\"Accident_Severity\",col(\"Accident_Severity\").cast(IntegerType()))\n",
        "accidents = accidents.withColumn(\"Number_of_Vehicles\",col(\"Number_of_Vehicles\").cast(IntegerType()))\n",
        "accidents = accidents.withColumn(\"Number_of_Casualties\",col(\"Number_of_Casualties\").cast(IntegerType()))\n",
        "accidents = accidents.withColumn(\"Day_of_Week\",col(\"Day_of_Week\").cast(IntegerType()))\n",
        "accidents = accidents.withColumn(\"Local_Authority_(District)\",col(\"Local_Authority_(District)\").cast(IntegerType()))\n",
        "accidents = accidents.withColumn(\"1st_Road_Class\",col(\"1st_Road_Class\").cast(IntegerType()))\n",
        "accidents = accidents.withColumn(\"1st_Road_Number\",col(\"1st_Road_Number\").cast(IntegerType()))\n",
        "accidents = accidents.withColumn(\"Road_Type\",col(\"Road_Type\").cast(IntegerType()))\n",
        "accidents = accidents.withColumn(\"Speed_limit\",col(\"Speed_limit\").cast(IntegerType()))\n",
        "accidents = accidents.withColumn(\"Junction_Detail\",col(\"Junction_Detail\").cast(IntegerType()))\n",
        "accidents = accidents.withColumn(\"Junction_Control\",col(\"Junction_Control\").cast(IntegerType()))\n",
        "accidents = accidents.withColumn(\"2nd_Road_Class\",col(\"2nd_Road_Class\").cast(IntegerType()))\n",
        "accidents = accidents.withColumn(\"2nd_Road_Number\",col(\"2nd_Road_Number\").cast(IntegerType()))\n",
        "accidents = accidents.withColumn(\"Pedestrian_Crossing-Human_Control\",col(\"Pedestrian_Crossing-Human_Control\").cast(IntegerType()))\n",
        "accidents = accidents.withColumn(\"Pedestrian_Crossing-Physical_Facilities\",col(\"Pedestrian_Crossing-Physical_Facilities\").cast(IntegerType()))\n",
        "accidents = accidents.withColumn(\"Light_Conditions\",col(\"Light_Conditions\").cast(IntegerType()))\n",
        "accidents = accidents.withColumn(\"Weather_Conditions\",col(\"Weather_Conditions\").cast(IntegerType()))\n",
        "accidents = accidents.withColumn(\"Road_Surface_Conditions\",col(\"Road_Surface_Conditions\").cast(IntegerType()))\n",
        "accidents = accidents.withColumn(\"Special_Conditions_at_Site\",col(\"Special_Conditions_at_Site\").cast(IntegerType()))\n",
        "accidents = accidents.withColumn(\"Carriageway_Hazards\",col(\"Carriageway_Hazards\").cast(IntegerType()))\n",
        "accidents = accidents.withColumn(\"Urban_or_Rural_Area\",col(\"Urban_or_Rural_Area\").cast(IntegerType()))\n",
        "accidents = accidents.withColumn(\"Did_Police_Officer_Attend_Scene_of_Accident\",col(\"Did_Police_Officer_Attend_Scene_of_Accident\").cast(IntegerType()))\n",
        "accidents = accidents.withColumn(\"Vehicle_Reference\",col(\"Vehicle_Reference\").cast(IntegerType()))\n",
        "accidents = accidents.withColumn(\"Casualty_Reference\",col(\"Casualty_Reference\").cast(IntegerType()))\n",
        "accidents = accidents.withColumn(\"Casualty_Class\",col(\"Casualty_Class\").cast(IntegerType()))\n",
        "accidents = accidents.withColumn(\"Sex_of_Casualty\",col(\"Sex_of_Casualty\").cast(IntegerType()))\n",
        "accidents = accidents.withColumn(\"Age_of_Casualty\",col(\"Age_of_Casualty\").cast(IntegerType()))\n",
        "accidents = accidents.withColumn(\"Age_Band_of_Casualty\",col(\"Age_Band_of_Casualty\").cast(IntegerType()))\n",
        "accidents = accidents.withColumn(\"Casualty_Severity\",col(\"Casualty_Severity\").cast(IntegerType()))\n",
        "accidents = accidents.withColumn(\"Pedestrian_Location\",col(\"Pedestrian_Location\").cast(IntegerType()))\n",
        "accidents = accidents.withColumn(\"Pedestrian_Movement\",col(\"Pedestrian_Movement\").cast(IntegerType()))\n",
        "accidents = accidents.withColumn(\"Car_Passenger\",col(\"Car_Passenger\").cast(IntegerType()))\n",
        "accidents = accidents.withColumn(\"Bus_or_Coach_Passenger\",col(\"Bus_or_Coach_Passenger\").cast(IntegerType()))\n",
        "accidents = accidents.withColumn(\"Pedestrian_Road_Maintenance_Worker\",col(\"Pedestrian_Road_Maintenance_Worker\").cast(IntegerType()))\n",
        "accidents = accidents.withColumn(\"Casualty_Type\",col(\"Casualty_Type\").cast(IntegerType()))\n",
        "accidents = accidents.withColumn(\"Casualty_Home_Area_Type\",col(\"Casualty_Home_Area_Type\").cast(IntegerType()))\n",
        "accidents = accidents.withColumn(\"Vehicle_Type\",col(\"Vehicle_Type\").cast(IntegerType()))\n",
        "accidents = accidents.withColumn(\"Towing_and_Articulation\",col(\"Towing_and_Articulation\").cast(IntegerType()))\n",
        "accidents = accidents.withColumn(\"Vehicle_Manoeuvre\",col(\"Vehicle_Manoeuvre\").cast(IntegerType()))\n",
        "accidents = accidents.withColumn(\"Vehicle_Location-Restricted_Lane\",col(\"Vehicle_Location-Restricted_Lane\").cast(IntegerType()))\n",
        "accidents = accidents.withColumn(\"Junction_Location\",col(\"Junction_Location\").cast(IntegerType()))\n",
        "accidents = accidents.withColumn(\"Skidding_and_Overturning\",col(\"Skidding_and_Overturning\").cast(IntegerType()))\n",
        "accidents = accidents.withColumn(\"Hit_Object_in_Carriageway\",col(\"Hit_Object_in_Carriageway\").cast(IntegerType()))\n",
        "accidents = accidents.withColumn(\"Vehicle_Leaving_Carriageway\",col(\"Vehicle_Leaving_Carriageway\").cast(IntegerType()))\n",
        "accidents = accidents.withColumn(\"Hit_Object_off_Carriageway\",col(\"Hit_Object_off_Carriageway\").cast(IntegerType()))\n",
        "accidents = accidents.withColumn(\"1st_Point_of_Impact\",col(\"1st_Point_of_Impact\").cast(IntegerType()))\n",
        "accidents = accidents.withColumn(\"Was_Vehicle_Left_Hand_Drive?\",col(\"Was_Vehicle_Left_Hand_Drive?\").cast(IntegerType()))\n",
        "accidents = accidents.withColumn(\"Journey_Purpose_of_Driver\",col(\"Journey_Purpose_of_Driver\").cast(IntegerType()))\n",
        "accidents = accidents.withColumn(\"Sex_of_Driver\",col(\"Sex_of_Driver\").cast(IntegerType()))\n",
        "accidents = accidents.withColumn(\"Age_of_Driver\",col(\"Age_of_Driver\").cast(IntegerType()))\n",
        "accidents = accidents.withColumn(\"Age_Band_of_Driver\",col(\"Age_Band_of_Driver\").cast(IntegerType()))\n",
        "accidents = accidents.withColumn(\"Engine_Capacity_(CC)\",col(\"Engine_Capacity_(CC)\").cast(IntegerType()))\n",
        "accidents = accidents.withColumn(\"Propulsion_Code\",col(\"Propulsion_Code\").cast(IntegerType()))\n",
        "accidents = accidents.withColumn(\"Age_of_Vehicle\",col(\"Age_of_Vehicle\").cast(IntegerType()))\n",
        "accidents = accidents.withColumn(\"Driver_IMD_Decile\",col(\"Driver_IMD_Decile\").cast(IntegerType()))\n",
        "accidents = accidents.withColumn(\"Driver_Home_Area_Type\",col(\"Driver_Home_Area_Type\").cast(IntegerType()))\n",
        "accidents = accidents.withColumn(\"Date\",col(\"Date\").cast(DateType()))\n"
      ]
    },
    {
      "cell_type": "code",
      "execution_count": null,
      "id": "1a9ab027",
      "metadata": {
        "id": "1a9ab027",
        "outputId": "eb70203c-9fd5-4a1e-e010-d6b4bc89d884"
      },
      "outputs": [
        {
          "name": "stdout",
          "output_type": "stream",
          "text": [
            "root\n",
            " |-- Accident_Index: string (nullable = true)\n",
            " |-- Police_Force: integer (nullable = true)\n",
            " |-- Accident_Severity: integer (nullable = true)\n",
            " |-- Number_of_Vehicles: integer (nullable = true)\n",
            " |-- Number_of_Casualties: integer (nullable = true)\n",
            " |-- Date: date (nullable = true)\n",
            " |-- Day_of_Week: integer (nullable = true)\n",
            " |-- Local_Authority_(District): integer (nullable = true)\n",
            " |-- Local_Authority_(Highway): string (nullable = true)\n",
            " |-- 1st_Road_Class: integer (nullable = true)\n",
            " |-- 1st_Road_Number: integer (nullable = true)\n",
            " |-- Road_Type: integer (nullable = true)\n",
            " |-- Speed_limit: integer (nullable = true)\n",
            " |-- Junction_Detail: integer (nullable = true)\n",
            " |-- Junction_Control: integer (nullable = true)\n",
            " |-- 2nd_Road_Class: integer (nullable = true)\n",
            " |-- 2nd_Road_Number: integer (nullable = true)\n",
            " |-- Pedestrian_Crossing-Human_Control: integer (nullable = true)\n",
            " |-- Pedestrian_Crossing-Physical_Facilities: integer (nullable = true)\n",
            " |-- Light_Conditions: integer (nullable = true)\n",
            " |-- Weather_Conditions: integer (nullable = true)\n",
            " |-- Road_Surface_Conditions: integer (nullable = true)\n",
            " |-- Special_Conditions_at_Site: integer (nullable = true)\n",
            " |-- Carriageway_Hazards: integer (nullable = true)\n",
            " |-- Urban_or_Rural_Area: integer (nullable = true)\n",
            " |-- Did_Police_Officer_Attend_Scene_of_Accident: integer (nullable = true)\n",
            " |-- Vehicle_Reference: integer (nullable = true)\n",
            " |-- Casualty_Reference: integer (nullable = true)\n",
            " |-- Casualty_Class: integer (nullable = true)\n",
            " |-- Sex_of_Casualty: integer (nullable = true)\n",
            " |-- Age_of_Casualty: integer (nullable = true)\n",
            " |-- Age_Band_of_Casualty: integer (nullable = true)\n",
            " |-- Casualty_Severity: integer (nullable = true)\n",
            " |-- Pedestrian_Location: integer (nullable = true)\n",
            " |-- Pedestrian_Movement: integer (nullable = true)\n",
            " |-- Car_Passenger: integer (nullable = true)\n",
            " |-- Bus_or_Coach_Passenger: integer (nullable = true)\n",
            " |-- Pedestrian_Road_Maintenance_Worker: integer (nullable = true)\n",
            " |-- Casualty_Type: integer (nullable = true)\n",
            " |-- Casualty_Home_Area_Type: integer (nullable = true)\n",
            " |-- Vehicle_Type: integer (nullable = true)\n",
            " |-- Towing_and_Articulation: integer (nullable = true)\n",
            " |-- Vehicle_Manoeuvre: integer (nullable = true)\n",
            " |-- Vehicle_Location-Restricted_Lane: integer (nullable = true)\n",
            " |-- Junction_Location: integer (nullable = true)\n",
            " |-- Skidding_and_Overturning: integer (nullable = true)\n",
            " |-- Hit_Object_in_Carriageway: integer (nullable = true)\n",
            " |-- Vehicle_Leaving_Carriageway: integer (nullable = true)\n",
            " |-- Hit_Object_off_Carriageway: integer (nullable = true)\n",
            " |-- 1st_Point_of_Impact: integer (nullable = true)\n",
            " |-- Was_Vehicle_Left_Hand_Drive?: integer (nullable = true)\n",
            " |-- Journey_Purpose_of_Driver: integer (nullable = true)\n",
            " |-- Sex_of_Driver: integer (nullable = true)\n",
            " |-- Age_of_Driver: integer (nullable = true)\n",
            " |-- Age_Band_of_Driver: integer (nullable = true)\n",
            " |-- Engine_Capacity_(CC): integer (nullable = true)\n",
            " |-- Propulsion_Code: integer (nullable = true)\n",
            " |-- Age_of_Vehicle: integer (nullable = true)\n",
            " |-- Driver_IMD_Decile: integer (nullable = true)\n",
            " |-- Driver_Home_Area_Type: integer (nullable = true)\n",
            "\n"
          ]
        }
      ],
      "source": [
        "accidents.printSchema()"
      ]
    },
    {
      "cell_type": "code",
      "execution_count": null,
      "id": "f9adb141",
      "metadata": {
        "scrolled": false,
        "id": "f9adb141",
        "outputId": "f120a114-d381-48da-fc97-441a1278e92c"
      },
      "outputs": [
        {
          "name": "stdout",
          "output_type": "stream",
          "text": [
            "+----+\n",
            "|Date|\n",
            "+----+\n",
            "|null|\n",
            "|null|\n",
            "|null|\n",
            "|null|\n",
            "|null|\n",
            "|null|\n",
            "|null|\n",
            "|null|\n",
            "|null|\n",
            "|null|\n",
            "|null|\n",
            "|null|\n",
            "|null|\n",
            "|null|\n",
            "|null|\n",
            "|null|\n",
            "|null|\n",
            "|null|\n",
            "|null|\n",
            "|null|\n",
            "+----+\n",
            "only showing top 20 rows\n",
            "\n"
          ]
        }
      ],
      "source": [
        "accidents.select('Date').show()"
      ]
    },
    {
      "cell_type": "code",
      "execution_count": null,
      "id": "23e85fb4",
      "metadata": {
        "id": "23e85fb4"
      },
      "outputs": [],
      "source": [
        "accidents = accidents.drop('Date')"
      ]
    },
    {
      "cell_type": "code",
      "execution_count": null,
      "id": "10f6734b",
      "metadata": {
        "scrolled": false,
        "id": "10f6734b"
      },
      "outputs": [],
      "source": [
        "#accidents.printSchema()"
      ]
    },
    {
      "cell_type": "code",
      "execution_count": null,
      "id": "9744bb44",
      "metadata": {
        "scrolled": false,
        "id": "9744bb44",
        "outputId": "d15af03a-24c7-467d-99c7-4180ac46f56e"
      },
      "outputs": [
        {
          "name": "stdout",
          "output_type": "stream",
          "text": [
            "+--------------+------------+-----------------+------------------+--------------------+-----------+--------------------------+-------------------------+--------------+---------------+---------+-----------+---------------+----------------+--------------+---------------+---------------------------------+---------------------------------------+----------------+------------------+-----------------------+--------------------------+-------------------+-------------------+-------------------------------------------+-----------------+------------------+--------------+---------------+---------------+--------------------+-----------------+-------------------+-------------------+-------------+----------------------+----------------------------------+-------------+-----------------------+------------+-----------------------+-----------------+--------------------------------+-----------------+------------------------+-------------------------+---------------------------+--------------------------+-------------------+----------------------------+-------------------------+-------------+-------------+------------------+--------------------+---------------+--------------+-----------------+---------------------+\n",
            "|Accident_Index|Police_Force|Accident_Severity|Number_of_Vehicles|Number_of_Casualties|Day_of_Week|Local_Authority_(District)|Local_Authority_(Highway)|1st_Road_Class|1st_Road_Number|Road_Type|Speed_limit|Junction_Detail|Junction_Control|2nd_Road_Class|2nd_Road_Number|Pedestrian_Crossing-Human_Control|Pedestrian_Crossing-Physical_Facilities|Light_Conditions|Weather_Conditions|Road_Surface_Conditions|Special_Conditions_at_Site|Carriageway_Hazards|Urban_or_Rural_Area|Did_Police_Officer_Attend_Scene_of_Accident|Vehicle_Reference|Casualty_Reference|Casualty_Class|Sex_of_Casualty|Age_of_Casualty|Age_Band_of_Casualty|Casualty_Severity|Pedestrian_Location|Pedestrian_Movement|Car_Passenger|Bus_or_Coach_Passenger|Pedestrian_Road_Maintenance_Worker|Casualty_Type|Casualty_Home_Area_Type|Vehicle_Type|Towing_and_Articulation|Vehicle_Manoeuvre|Vehicle_Location-Restricted_Lane|Junction_Location|Skidding_and_Overturning|Hit_Object_in_Carriageway|Vehicle_Leaving_Carriageway|Hit_Object_off_Carriageway|1st_Point_of_Impact|Was_Vehicle_Left_Hand_Drive?|Journey_Purpose_of_Driver|Sex_of_Driver|Age_of_Driver|Age_Band_of_Driver|Engine_Capacity_(CC)|Propulsion_Code|Age_of_Vehicle|Driver_IMD_Decile|Driver_Home_Area_Type|\n",
            "+--------------+------------+-----------------+------------------+--------------------+-----------+--------------------------+-------------------------+--------------+---------------+---------+-----------+---------------+----------------+--------------+---------------+---------------------------------+---------------------------------------+----------------+------------------+-----------------------+--------------------------+-------------------+-------------------+-------------------------------------------+-----------------+------------------+--------------+---------------+---------------+--------------------+-----------------+-------------------+-------------------+-------------+----------------------+----------------------------------+-------------+-----------------------+------------+-----------------------+-----------------+--------------------------------+-----------------+------------------------+-------------------------+---------------------------+--------------------------+-------------------+----------------------------+-------------------------+-------------+-------------+------------------+--------------------+---------------+--------------+-----------------+---------------------+\n",
            "|             0|           0|                0|                 0|                   0|          0|                         0|                        0|             0|              0|        0|          0|              0|               0|             0|              0|                                0|                                      0|               0|                 0|                      0|                         0|                  0|                  0|                                          0|                0|                 0|             0|              0|              0|                   0|                0|                  0|                  0|            0|                     0|                                 0|            0|                      0|           0|                      0|                0|                               0|                0|                       0|                        0|                          0|                         0|                  0|                           0|                        0|            0|            0|                 0|                   0|              0|             0|                0|                    0|\n",
            "+--------------+------------+-----------------+------------------+--------------------+-----------+--------------------------+-------------------------+--------------+---------------+---------+-----------+---------------+----------------+--------------+---------------+---------------------------------+---------------------------------------+----------------+------------------+-----------------------+--------------------------+-------------------+-------------------+-------------------------------------------+-----------------+------------------+--------------+---------------+---------------+--------------------+-----------------+-------------------+-------------------+-------------+----------------------+----------------------------------+-------------+-----------------------+------------+-----------------------+-----------------+--------------------------------+-----------------+------------------------+-------------------------+---------------------------+--------------------------+-------------------+----------------------------+-------------------------+-------------+-------------+------------------+--------------------+---------------+--------------+-----------------+---------------------+\n",
            "\n"
          ]
        }
      ],
      "source": [
        "from pyspark.sql.functions import col,isnan,when,count\n",
        "accidents.select([count(when(isnan(c)|col(c).isNull(),c)).alias(c) for c in accidents.columns]).show()"
      ]
    },
    {
      "cell_type": "code",
      "execution_count": null,
      "id": "d4c9120b",
      "metadata": {
        "id": "d4c9120b",
        "outputId": "8ded69ac-ff1c-452d-bead-595cd7664aa4"
      },
      "outputs": [
        {
          "name": "stdout",
          "output_type": "stream",
          "text": [
            "+---------------------------------+\n",
            "|count(DISTINCT Casualty_Severity)|\n",
            "+---------------------------------+\n",
            "|                                3|\n",
            "+---------------------------------+\n",
            "\n",
            "Distinct Count of Casuality_Severity: 3\n"
          ]
        }
      ],
      "source": [
        "from pyspark.sql.functions import countDistinct\n",
        "distinct_count = accidents.select(countDistinct(\"Casualty_Severity\"))\n",
        "distinct_count.show()\n",
        "\n",
        "print(\"Distinct Count of Casuality_Severity: \"+ str(distinct_count.collect()[0][0]))"
      ]
    },
    {
      "cell_type": "code",
      "execution_count": null,
      "id": "addd0cbe",
      "metadata": {
        "scrolled": false,
        "id": "addd0cbe",
        "outputId": "82fc1589-ab10-4f4c-b987-0378174db0be"
      },
      "outputs": [
        {
          "name": "stdout",
          "output_type": "stream",
          "text": [
            "+--------------+------------+-----------------+------------------+--------------------+-----------+--------------------------+-------------------------+--------------+---------------+---------+-----------+---------------+----------------+--------------+---------------+---------------------------------+---------------------------------------+----------------+------------------+-----------------------+--------------------------+-------------------+-------------------+-------------------------------------------+-----------------+------------------+--------------+---------------+---------------+--------------------+-----------------+-------------------+-------------------+-------------+----------------------+----------------------------------+-------------+-----------------------+------------+-----------------------+-----------------+--------------------------------+-----------------+------------------------+-------------------------+---------------------------+--------------------------+-------------------+----------------------------+-------------------------+-------------+-------------+------------------+--------------------+---------------+--------------+-----------------+---------------------+\n",
            "|Accident_Index|Police_Force|Accident_Severity|Number_of_Vehicles|Number_of_Casualties|Day_of_Week|Local_Authority_(District)|Local_Authority_(Highway)|1st_Road_Class|1st_Road_Number|Road_Type|Speed_limit|Junction_Detail|Junction_Control|2nd_Road_Class|2nd_Road_Number|Pedestrian_Crossing-Human_Control|Pedestrian_Crossing-Physical_Facilities|Light_Conditions|Weather_Conditions|Road_Surface_Conditions|Special_Conditions_at_Site|Carriageway_Hazards|Urban_or_Rural_Area|Did_Police_Officer_Attend_Scene_of_Accident|Vehicle_Reference|Casualty_Reference|Casualty_Class|Sex_of_Casualty|Age_of_Casualty|Age_Band_of_Casualty|Casualty_Severity|Pedestrian_Location|Pedestrian_Movement|Car_Passenger|Bus_or_Coach_Passenger|Pedestrian_Road_Maintenance_Worker|Casualty_Type|Casualty_Home_Area_Type|Vehicle_Type|Towing_and_Articulation|Vehicle_Manoeuvre|Vehicle_Location-Restricted_Lane|Junction_Location|Skidding_and_Overturning|Hit_Object_in_Carriageway|Vehicle_Leaving_Carriageway|Hit_Object_off_Carriageway|1st_Point_of_Impact|Was_Vehicle_Left_Hand_Drive?|Journey_Purpose_of_Driver|Sex_of_Driver|Age_of_Driver|Age_Band_of_Driver|Engine_Capacity_(CC)|Propulsion_Code|Age_of_Vehicle|Driver_IMD_Decile|Driver_Home_Area_Type|\n",
            "+--------------+------------+-----------------+------------------+--------------------+-----------+--------------------------+-------------------------+--------------+---------------+---------+-----------+---------------+----------------+--------------+---------------+---------------------------------+---------------------------------------+----------------+------------------+-----------------------+--------------------------+-------------------+-------------------+-------------------------------------------+-----------------+------------------+--------------+---------------+---------------+--------------------+-----------------+-------------------+-------------------+-------------+----------------------+----------------------------------+-------------+-----------------------+------------+-----------------------+-----------------+--------------------------------+-----------------+------------------------+-------------------------+---------------------------+--------------------------+-------------------+----------------------------+-------------------------+-------------+-------------+------------------+--------------------+---------------+--------------+-----------------+---------------------+\n",
            "| 200501BS70192|           1|                3|                 2|                   1|          4|                        12|                E09000020|             5|              0|        6|         30|              0|              -1|            -1|              0|                                0|                                      5|               1|                 1|                      1|                         0|                  0|                  1|                                          1|                1|                 1|             3|              1|             19|                   4|                3|                  8|                  8|            0|                     0|                                -1|            0|                      2|          19|                      0|               18|                               0|                0|                       0|                        0|                          0|                         0|                  3|                           1|                       15|            1|           29|                 6|                1896|              2|             8|                5|                    1|\n",
            "| 200501BS70192|           1|                3|                 2|                   1|          4|                        12|                E09000020|             5|              0|        6|         30|              0|              -1|            -1|              0|                                0|                                      5|               1|                 1|                      1|                         0|                  0|                  1|                                          1|                1|                 1|             3|              1|             19|                   4|                3|                  8|                  8|            0|                     0|                                -1|            0|                      2|          19|                      0|                2|                               0|                0|                       0|                        0|                          0|                         0|                  0|                           1|                       15|            1|           51|                 8|                2299|              2|             7|                8|                    2|\n",
            "| 200501BS70293|           1|                3|                 1|                   1|          4|                        12|                E09000020|             3|              4|        6|         30|              3|               2|             4|            319|                                0|                                      0|               1|                 2|                      2|                         0|                  0|                  1|                                          1|                1|                 1|             3|              1|             26|                   6|                3|                  5|                  3|            0|                     0|                                -1|            0|                      1|           9|                      0|                9|                               0|                2|                       0|                        0|                          0|                         0|                  1|                           1|                       15|            1|           45|                 7|                1999|              1|            -1|                3|                    1|\n",
            "| 200501BS70739|           1|                3|                 2|                   1|          7|                        12|                E09000020|             3|              4|        3|         40|              6|               4|             3|           3220|                                0|                                      0|               4|                 1|                      1|                         0|                  0|                  1|                                          2|                1|                 1|             1|              1|             27|                   6|                3|                  0|                  0|            0|                     0|                                -1|            5|                      1|           5|                      0|                4|                               0|                1|                       0|                        0|                          0|                         0|                  2|                           1|                       15|            1|           27|                 6|                 645|              1|            -1|                9|                    1|\n",
            "| 200501BS70739|           1|                3|                 2|                   1|          7|                        12|                E09000020|             3|              4|        3|         40|              6|               4|             3|           3220|                                0|                                      0|               4|                 1|                      1|                         0|                  0|                  1|                                          2|                1|                 1|             1|              1|             27|                   6|                3|                  0|                  0|            0|                     0|                                -1|            5|                      1|           9|                      0|               18|                               0|                1|                       0|                        0|                          0|                         0|                  1|                           1|                       15|            1|           -1|                -1|                1598|              1|             3|                5|                    1|\n",
            "| 200501CP00077|          48|                3|                 2|                   1|          5|                       570|                E09000001|             5|              0|        2|         30|              7|               4|             5|              0|                                0|                                      1|               1|                 1|                      1|                         0|                  0|                  1|                                          1|                2|                 1|             1|              1|             36|                   7|                3|                  0|                  0|            0|                     0|                                -1|            1|                     -1|           9|                      0|               10|                               0|                1|                       0|                        0|                          0|                         0|                  1|                           1|                       15|            1|           75|                10|                2946|              1|             6|                8|                    1|\n",
            "| 200501CP00077|          48|                3|                 2|                   1|          5|                       570|                E09000001|             5|              0|        2|         30|              7|               4|             5|              0|                                0|                                      1|               1|                 1|                      1|                         0|                  0|                  1|                                          1|                2|                 1|             1|              1|             36|                   7|                3|                  0|                  0|            0|                     0|                                -1|            1|                     -1|           1|                      0|               10|                               0|                1|                       0|                        0|                          0|                         0|                  2|                           1|                       15|            1|           36|                 7|                  -1|             -1|            -1|               -1|                   -1|\n",
            "| 200501CP00182|          48|                3|                 1|                   1|          4|                       570|                E09000001|             5|              0|        6|         30|              6|               2|             5|              0|                                0|                                      5|               1|                 1|                      1|                         0|                  0|                  1|                                          1|                1|                 1|             3|              1|             28|                   6|                3|                  1|                  1|            0|                     0|                                -1|            0|                      1|           9|                      0|                9|                               0|                8|                       0|                        0|                          0|                         0|                  1|                           1|                       15|            3|           -1|                -1|                1896|              2|             3|               -1|                   -1|\n",
            "| 200501CP00197|          48|                3|                 2|                   1|          4|                       570|                E09000001|             3|             40|        6|         30|              3|               4|             5|              0|                                0|                                      0|               1|                 1|                      1|                         0|                  0|                  1|                                          1|                2|                 1|             1|              1|             35|                   6|                3|                  0|                  0|            0|                     0|                                -1|            4|                     -1|           9|                      0|                6|                               0|                2|                       0|                        0|                          0|                         0|                  3|                           1|                       15|            1|           67|                10|                1240|              1|             1|                8|                    1|\n",
            "| 200501CP00197|          48|                3|                 2|                   1|          4|                       570|                E09000001|             3|             40|        6|         30|              3|               4|             5|              0|                                0|                                      0|               1|                 1|                      1|                         0|                  0|                  1|                                          1|                2|                 1|             1|              1|             35|                   6|                3|                  0|                  0|            0|                     0|                                -1|            4|                     -1|           4|                      0|               14|                               0|                2|                       0|                        0|                          0|                         0|                  4|                           1|                       15|            1|           35|                 6|                 498|              1|            10|               -1|                   -1|\n",
            "| 200501CP00212|          48|                3|                 2|                   1|          3|                       570|                E09000001|             3|           3211|        6|         30|              8|               4|             3|           3211|                                0|                                      0|               1|                 1|                      1|                         0|                  0|                  1|                                          1|                2|                 1|             1|              2|             30|                   6|                3|                  0|                  0|            0|                     0|                                -1|            1|                      1|           8|                      0|                9|                               0|                8|                       0|                        0|                          0|                         0|                  4|                           1|                       15|            1|           52|                 8|                2664|              2|             5|                3|                    1|\n",
            "| 200501CP00212|          48|                3|                 2|                   1|          3|                       570|                E09000001|             3|           3211|        6|         30|              8|               4|             3|           3211|                                0|                                      0|               1|                 1|                      1|                         0|                  0|                  1|                                          1|                2|                 1|             1|              2|             30|                   6|                3|                  0|                  0|            0|                     0|                                -1|            1|                      1|           1|                      0|               18|                               0|                8|                       0|                        0|                          0|                         0|                  1|                           1|                       15|            2|           30|                 6|                  -1|             -1|            -1|                3|                    1|\n",
            "| 200501CW10269|           1|                2|                 1|                   1|          3|                         1|                E09000033|             3|              4|        6|         30|              0|              -1|            -1|              0|                                0|                                      0|               4|                 3|                      3|                         0|                  0|                  1|                                          1|                1|                 1|             3|              1|             18|                   4|                2|                  7|                  6|            0|                     0|                                -1|            0|                      1|           8|                      0|               17|                               0|                0|                       0|                        0|                          0|                         0|                  3|                           1|                        1|            1|           -1|                -1|                  -1|             -1|            -1|                3|                    1|\n",
            "| 200501CW10359|           1|                3|                 1|                   1|          3|                         1|                E09000033|             6|              0|        6|         20|              0|              -1|            -1|              0|                                0|                                      0|               1|                 1|                      1|                         0|                  0|                  1|                                          1|                1|                 1|             3|              1|              3|                   1|                3|                  5|                  2|            0|                     0|                                -1|            0|                      1|           9|                      0|               18|                               0|                0|                       0|                        0|                          0|                         0|                  4|                           1|                       15|            3|           -1|                -1|                  -1|             -1|            -1|               -1|                   -1|\n",
            "| 200501CW10368|           1|                3|                 2|                   1|          1|                         1|                E09000033|             3|            501|        3|         30|              6|               2|             5|              0|                                0|                                      5|               4|                 1|                      1|                         0|                  0|                  1|                                          1|                1|                 1|             1|              2|             23|                   5|                3|                  0|                  0|            0|                     0|                                -1|            9|                      1|           9|                      0|                4|                               0|                1|                       0|                        0|                          0|                         0|                  2|                           1|                       15|            2|           23|                 5|                1149|              1|             2|                9|                    1|\n",
            "| 200501CW10368|           1|                3|                 2|                   1|          1|                         1|                E09000033|             3|            501|        3|         30|              6|               2|             5|              0|                                0|                                      5|               4|                 1|                      1|                         0|                  0|                  1|                                          1|                1|                 1|             1|              2|             23|                   5|                3|                  0|                  0|            0|                     0|                                -1|            9|                      1|           9|                      0|                4|                               0|                1|                       0|                        0|                          0|                         0|                  1|                           1|                       15|            1|           51|                 8|                1994|              1|             9|                9|                    1|\n",
            "| 200501CW10403|           1|                3|                 2|                   1|          4|                         1|                E09000033|             3|              5|        3|         30|              6|               2|             3|           4209|                                0|                                      5|               4|                 1|                      1|                         0|                  0|                  1|                                          1|                2|                 1|             1|              1|             36|                   7|                3|                  0|                  0|            0|                     0|                                -1|            9|                      1|           9|                      0|                9|                               0|                8|                       0|                        0|                          0|                         0|                  4|                           1|                       15|            1|           27|                 6|                1389|              1|            13|                4|                    1|\n",
            "| 200501CW10403|           1|                3|                 2|                   1|          4|                         1|                E09000033|             3|              5|        3|         30|              6|               2|             3|           4209|                                0|                                      5|               4|                 1|                      1|                         0|                  0|                  1|                                          1|                2|                 1|             1|              1|             36|                   7|                3|                  0|                  0|            0|                     0|                                -1|            9|                      1|           9|                      0|               18|                               0|                8|                       0|                        0|                          0|                         0|                  1|                           1|                       15|            1|           36|                 7|                  -1|             -1|            -1|                2|                    1|\n",
            "| 200501CW10495|           1|                3|                 2|                   1|          7|                         1|                E09000033|             3|           5205|        6|         30|              0|              -1|            -1|              0|                                0|                                      0|               1|                 1|                      1|                         0|                  0|                  1|                                          1|                1|                 1|             1|              1|             44|                   7|                3|                  0|                  0|            0|                     0|                                -1|            9|                      1|           9|                      0|                6|                               0|                0|                       0|                        0|                          0|                         0|                  3|                           1|                       15|            1|           44|                 7|                1390|              1|             9|                4|                    1|\n",
            "| 200501CW10495|           1|                3|                 2|                   1|          7|                         1|                E09000033|             3|           5205|        6|         30|              0|              -1|            -1|              0|                                0|                                      0|               1|                 1|                      1|                         0|                  0|                  1|                                          1|                1|                 1|             1|              1|             44|                   7|                3|                  0|                  0|            0|                     0|                                -1|            9|                      1|           9|                      0|               18|                               0|                0|                       0|                        0|                          0|                         0|                  1|                           2|                       15|            1|           28|                 6|                  -1|             -1|            -1|                7|                    1|\n",
            "+--------------+------------+-----------------+------------------+--------------------+-----------+--------------------------+-------------------------+--------------+---------------+---------+-----------+---------------+----------------+--------------+---------------+---------------------------------+---------------------------------------+----------------+------------------+-----------------------+--------------------------+-------------------+-------------------+-------------------------------------------+-----------------+------------------+--------------+---------------+---------------+--------------------+-----------------+-------------------+-------------------+-------------+----------------------+----------------------------------+-------------+-----------------------+------------+-----------------------+-----------------+--------------------------------+-----------------+------------------------+-------------------------+---------------------------+--------------------------+-------------------+----------------------------+-------------------------+-------------+-------------+------------------+--------------------+---------------+--------------+-----------------+---------------------+\n",
            "only showing top 20 rows\n",
            "\n"
          ]
        }
      ],
      "source": [
        "accidents.distinct().show()"
      ]
    },
    {
      "cell_type": "code",
      "execution_count": null,
      "id": "3e1ee632",
      "metadata": {
        "scrolled": false,
        "id": "3e1ee632",
        "outputId": "af9e4d1d-e20e-4432-bf6d-c91a27113191"
      },
      "outputs": [
        {
          "data": {
            "text/plain": [
              "4287593"
            ]
          },
          "execution_count": 28,
          "metadata": {},
          "output_type": "execute_result"
        }
      ],
      "source": [
        "accidents.select('*').count()"
      ]
    },
    {
      "cell_type": "code",
      "execution_count": null,
      "id": "1b90dd37",
      "metadata": {
        "id": "1b90dd37",
        "outputId": "ee10bd9a-1b20-4c68-9acf-589abf33c933"
      },
      "outputs": [
        {
          "data": {
            "text/plain": [
              "4285577"
            ]
          },
          "execution_count": 29,
          "metadata": {},
          "output_type": "execute_result"
        }
      ],
      "source": [
        "accidents.distinct().count()"
      ]
    },
    {
      "cell_type": "code",
      "execution_count": null,
      "id": "bfe8a21d",
      "metadata": {
        "id": "bfe8a21d",
        "outputId": "a2741a4e-9501-48bb-f1fc-6193ef619d4c"
      },
      "outputs": [
        {
          "data": {
            "text/plain": [
              "4287593"
            ]
          },
          "execution_count": 30,
          "metadata": {},
          "output_type": "execute_result"
        }
      ],
      "source": [
        "accidents.count()"
      ]
    },
    {
      "cell_type": "code",
      "execution_count": null,
      "id": "49f8ebed",
      "metadata": {
        "id": "49f8ebed"
      },
      "outputs": [],
      "source": [
        "accidents = accidents.distinct()"
      ]
    },
    {
      "cell_type": "code",
      "execution_count": null,
      "id": "42ee451d",
      "metadata": {
        "id": "42ee451d",
        "outputId": "fbefc716-0ea1-4f62-c7c1-cb84b91fed79"
      },
      "outputs": [
        {
          "data": {
            "text/plain": [
              "4285577"
            ]
          },
          "execution_count": 32,
          "metadata": {},
          "output_type": "execute_result"
        }
      ],
      "source": [
        "accidents.count()"
      ]
    },
    {
      "cell_type": "code",
      "execution_count": null,
      "id": "dcd48ea2",
      "metadata": {
        "id": "dcd48ea2"
      },
      "outputs": [],
      "source": [
        "#accidents.show(5)"
      ]
    },
    {
      "cell_type": "code",
      "execution_count": null,
      "id": "99d7a84a",
      "metadata": {
        "id": "99d7a84a"
      },
      "outputs": [],
      "source": [
        "#accidents.head(5)"
      ]
    },
    {
      "cell_type": "code",
      "execution_count": null,
      "id": "df40a747",
      "metadata": {
        "id": "df40a747"
      },
      "outputs": [],
      "source": [
        "accidents = accidents.limit(50000)"
      ]
    },
    {
      "cell_type": "code",
      "execution_count": null,
      "id": "6f5659f4",
      "metadata": {
        "id": "6f5659f4"
      },
      "outputs": [],
      "source": [
        "#accidents.count()"
      ]
    },
    {
      "cell_type": "code",
      "execution_count": null,
      "id": "6c45161e",
      "metadata": {
        "id": "6c45161e"
      },
      "outputs": [],
      "source": [
        "accident_pd = accidents.toPandas()"
      ]
    },
    {
      "cell_type": "code",
      "execution_count": null,
      "id": "8b5b3d51",
      "metadata": {
        "id": "8b5b3d51"
      },
      "outputs": [],
      "source": [
        "#accident_pd.count()"
      ]
    },
    {
      "cell_type": "code",
      "execution_count": null,
      "id": "97fe95c6",
      "metadata": {
        "id": "97fe95c6",
        "outputId": "81e33678-34ff-4bad-9ee2-75a89b0640db"
      },
      "outputs": [
        {
          "name": "stdout",
          "output_type": "stream",
          "text": [
            "<class 'pandas.core.frame.DataFrame'>\n",
            "RangeIndex: 50000 entries, 0 to 49999\n",
            "Data columns (total 59 columns):\n",
            " #   Column                                       Non-Null Count  Dtype \n",
            "---  ------                                       --------------  ----- \n",
            " 0   Accident_Index                               50000 non-null  object\n",
            " 1   Police_Force                                 50000 non-null  int32 \n",
            " 2   Accident_Severity                            50000 non-null  int32 \n",
            " 3   Number_of_Vehicles                           50000 non-null  int32 \n",
            " 4   Number_of_Casualties                         50000 non-null  int32 \n",
            " 5   Day_of_Week                                  50000 non-null  int32 \n",
            " 6   Local_Authority_(District)                   50000 non-null  int32 \n",
            " 7   Local_Authority_(Highway)                    50000 non-null  object\n",
            " 8   1st_Road_Class                               50000 non-null  int32 \n",
            " 9   1st_Road_Number                              50000 non-null  int32 \n",
            " 10  Road_Type                                    50000 non-null  int32 \n",
            " 11  Speed_limit                                  50000 non-null  int32 \n",
            " 12  Junction_Detail                              50000 non-null  int32 \n",
            " 13  Junction_Control                             50000 non-null  int32 \n",
            " 14  2nd_Road_Class                               50000 non-null  int32 \n",
            " 15  2nd_Road_Number                              50000 non-null  int32 \n",
            " 16  Pedestrian_Crossing-Human_Control            50000 non-null  int32 \n",
            " 17  Pedestrian_Crossing-Physical_Facilities      50000 non-null  int32 \n",
            " 18  Light_Conditions                             50000 non-null  int32 \n",
            " 19  Weather_Conditions                           50000 non-null  int32 \n",
            " 20  Road_Surface_Conditions                      50000 non-null  int32 \n",
            " 21  Special_Conditions_at_Site                   50000 non-null  int32 \n",
            " 22  Carriageway_Hazards                          50000 non-null  int32 \n",
            " 23  Urban_or_Rural_Area                          50000 non-null  int32 \n",
            " 24  Did_Police_Officer_Attend_Scene_of_Accident  50000 non-null  int32 \n",
            " 25  Vehicle_Reference                            50000 non-null  int32 \n",
            " 26  Casualty_Reference                           50000 non-null  int32 \n",
            " 27  Casualty_Class                               50000 non-null  int32 \n",
            " 28  Sex_of_Casualty                              50000 non-null  int32 \n",
            " 29  Age_of_Casualty                              50000 non-null  int32 \n",
            " 30  Age_Band_of_Casualty                         50000 non-null  int32 \n",
            " 31  Casualty_Severity                            50000 non-null  int32 \n",
            " 32  Pedestrian_Location                          50000 non-null  int32 \n",
            " 33  Pedestrian_Movement                          50000 non-null  int32 \n",
            " 34  Car_Passenger                                50000 non-null  int32 \n",
            " 35  Bus_or_Coach_Passenger                       50000 non-null  int32 \n",
            " 36  Pedestrian_Road_Maintenance_Worker           50000 non-null  int32 \n",
            " 37  Casualty_Type                                50000 non-null  int32 \n",
            " 38  Casualty_Home_Area_Type                      50000 non-null  int32 \n",
            " 39  Vehicle_Type                                 50000 non-null  int32 \n",
            " 40  Towing_and_Articulation                      50000 non-null  int32 \n",
            " 41  Vehicle_Manoeuvre                            50000 non-null  int32 \n",
            " 42  Vehicle_Location-Restricted_Lane             50000 non-null  int32 \n",
            " 43  Junction_Location                            50000 non-null  int32 \n",
            " 44  Skidding_and_Overturning                     50000 non-null  int32 \n",
            " 45  Hit_Object_in_Carriageway                    50000 non-null  int32 \n",
            " 46  Vehicle_Leaving_Carriageway                  50000 non-null  int32 \n",
            " 47  Hit_Object_off_Carriageway                   50000 non-null  int32 \n",
            " 48  1st_Point_of_Impact                          50000 non-null  int32 \n",
            " 49  Was_Vehicle_Left_Hand_Drive?                 50000 non-null  int32 \n",
            " 50  Journey_Purpose_of_Driver                    50000 non-null  int32 \n",
            " 51  Sex_of_Driver                                50000 non-null  int32 \n",
            " 52  Age_of_Driver                                50000 non-null  int32 \n",
            " 53  Age_Band_of_Driver                           50000 non-null  int32 \n",
            " 54  Engine_Capacity_(CC)                         50000 non-null  int32 \n",
            " 55  Propulsion_Code                              50000 non-null  int32 \n",
            " 56  Age_of_Vehicle                               50000 non-null  int32 \n",
            " 57  Driver_IMD_Decile                            50000 non-null  int32 \n",
            " 58  Driver_Home_Area_Type                        50000 non-null  int32 \n",
            "dtypes: int32(57), object(2)\n",
            "memory usage: 11.6+ MB\n"
          ]
        }
      ],
      "source": [
        "accident_pd.info()"
      ]
    },
    {
      "cell_type": "code",
      "execution_count": null,
      "id": "f563bd6e",
      "metadata": {
        "id": "f563bd6e"
      },
      "outputs": [],
      "source": [
        "import pandas as pd"
      ]
    },
    {
      "cell_type": "code",
      "execution_count": null,
      "id": "7374009e",
      "metadata": {
        "id": "7374009e"
      },
      "outputs": [],
      "source": [
        "import matplotlib.pyplot as plt\n",
        "import seaborn as sns"
      ]
    },
    {
      "cell_type": "code",
      "execution_count": null,
      "id": "43c26864",
      "metadata": {
        "id": "43c26864"
      },
      "outputs": [],
      "source": [
        "accident_pd.to_excel('C:/Users/HP/Documents/AccidentsUKDataset.xlsx', index= False)"
      ]
    },
    {
      "cell_type": "code",
      "execution_count": null,
      "id": "cb540e0f",
      "metadata": {
        "id": "cb540e0f"
      },
      "outputs": [],
      "source": [
        "#q1 : Does age of driver have effect on Severity of Accidents and Casualty?\n",
        "q1_df=  pd.DataFrame(data=accident_pd, columns=['Journey_Purpose_of_Driver', 'Sex_of_Driver', 'Age_of_Driver','Age_Band_of_Driver','Driver_Home_Area_Type'])"
      ]
    },
    {
      "cell_type": "code",
      "execution_count": null,
      "id": "fb93ab43",
      "metadata": {
        "id": "fb93ab43",
        "outputId": "b7789b65-b2bf-475e-d057-b1eb47fe043d"
      },
      "outputs": [
        {
          "data": {
            "text/html": [
              "<div>\n",
              "<style scoped>\n",
              "    .dataframe tbody tr th:only-of-type {\n",
              "        vertical-align: middle;\n",
              "    }\n",
              "\n",
              "    .dataframe tbody tr th {\n",
              "        vertical-align: top;\n",
              "    }\n",
              "\n",
              "    .dataframe thead th {\n",
              "        text-align: right;\n",
              "    }\n",
              "</style>\n",
              "<table border=\"1\" class=\"dataframe\">\n",
              "  <thead>\n",
              "    <tr style=\"text-align: right;\">\n",
              "      <th></th>\n",
              "      <th>Journey_Purpose_of_Driver</th>\n",
              "      <th>Sex_of_Driver</th>\n",
              "      <th>Age_of_Driver</th>\n",
              "      <th>Age_Band_of_Driver</th>\n",
              "      <th>Driver_Home_Area_Type</th>\n",
              "    </tr>\n",
              "  </thead>\n",
              "  <tbody>\n",
              "    <tr>\n",
              "      <th>0</th>\n",
              "      <td>15</td>\n",
              "      <td>1</td>\n",
              "      <td>29</td>\n",
              "      <td>6</td>\n",
              "      <td>1</td>\n",
              "    </tr>\n",
              "    <tr>\n",
              "      <th>1</th>\n",
              "      <td>15</td>\n",
              "      <td>1</td>\n",
              "      <td>51</td>\n",
              "      <td>8</td>\n",
              "      <td>2</td>\n",
              "    </tr>\n",
              "    <tr>\n",
              "      <th>2</th>\n",
              "      <td>15</td>\n",
              "      <td>1</td>\n",
              "      <td>45</td>\n",
              "      <td>7</td>\n",
              "      <td>1</td>\n",
              "    </tr>\n",
              "    <tr>\n",
              "      <th>3</th>\n",
              "      <td>15</td>\n",
              "      <td>1</td>\n",
              "      <td>27</td>\n",
              "      <td>6</td>\n",
              "      <td>1</td>\n",
              "    </tr>\n",
              "    <tr>\n",
              "      <th>4</th>\n",
              "      <td>15</td>\n",
              "      <td>1</td>\n",
              "      <td>-1</td>\n",
              "      <td>-1</td>\n",
              "      <td>1</td>\n",
              "    </tr>\n",
              "  </tbody>\n",
              "</table>\n",
              "</div>"
            ],
            "text/plain": [
              "   Journey_Purpose_of_Driver  Sex_of_Driver  Age_of_Driver  \\\n",
              "0                         15              1             29   \n",
              "1                         15              1             51   \n",
              "2                         15              1             45   \n",
              "3                         15              1             27   \n",
              "4                         15              1             -1   \n",
              "\n",
              "   Age_Band_of_Driver  Driver_Home_Area_Type  \n",
              "0                   6                      1  \n",
              "1                   8                      2  \n",
              "2                   7                      1  \n",
              "3                   6                      1  \n",
              "4                  -1                      1  "
            ]
          },
          "execution_count": 44,
          "metadata": {},
          "output_type": "execute_result"
        }
      ],
      "source": [
        "q1_df=q1_df[q1_df.Sex_of_Driver !=-1]\n",
        "q1_df.head()"
      ]
    },
    {
      "cell_type": "code",
      "execution_count": null,
      "id": "3cc9a9b3",
      "metadata": {
        "id": "3cc9a9b3",
        "outputId": "cacd0905-afd3-4f80-a6bf-facc27448385"
      },
      "outputs": [
        {
          "data": {
            "text/html": [
              "<div>\n",
              "<style scoped>\n",
              "    .dataframe tbody tr th:only-of-type {\n",
              "        vertical-align: middle;\n",
              "    }\n",
              "\n",
              "    .dataframe tbody tr th {\n",
              "        vertical-align: top;\n",
              "    }\n",
              "\n",
              "    .dataframe thead th {\n",
              "        text-align: right;\n",
              "    }\n",
              "</style>\n",
              "<table border=\"1\" class=\"dataframe\">\n",
              "  <thead>\n",
              "    <tr style=\"text-align: right;\">\n",
              "      <th></th>\n",
              "      <th>Journey_Purpose_of_Driver</th>\n",
              "      <th>Sex_of_Driver</th>\n",
              "      <th>Age_of_Driver</th>\n",
              "      <th>Age_Band_of_Driver</th>\n",
              "      <th>Driver_Home_Area_Type</th>\n",
              "    </tr>\n",
              "  </thead>\n",
              "  <tbody>\n",
              "    <tr>\n",
              "      <th>0</th>\n",
              "      <td>Not known/Other</td>\n",
              "      <td>1</td>\n",
              "      <td>29</td>\n",
              "      <td>26 - 35</td>\n",
              "      <td>Urban Area</td>\n",
              "    </tr>\n",
              "    <tr>\n",
              "      <th>1</th>\n",
              "      <td>Not known/Other</td>\n",
              "      <td>1</td>\n",
              "      <td>51</td>\n",
              "      <td>46 - 55</td>\n",
              "      <td>Small Town</td>\n",
              "    </tr>\n",
              "    <tr>\n",
              "      <th>2</th>\n",
              "      <td>Not known/Other</td>\n",
              "      <td>1</td>\n",
              "      <td>45</td>\n",
              "      <td>36 - 45</td>\n",
              "      <td>Urban Area</td>\n",
              "    </tr>\n",
              "    <tr>\n",
              "      <th>3</th>\n",
              "      <td>Not known/Other</td>\n",
              "      <td>1</td>\n",
              "      <td>27</td>\n",
              "      <td>26 - 35</td>\n",
              "      <td>Urban Area</td>\n",
              "    </tr>\n",
              "    <tr>\n",
              "      <th>4</th>\n",
              "      <td>Not known/Other</td>\n",
              "      <td>1</td>\n",
              "      <td>-1</td>\n",
              "      <td>NaN</td>\n",
              "      <td>Urban Area</td>\n",
              "    </tr>\n",
              "  </tbody>\n",
              "</table>\n",
              "</div>"
            ],
            "text/plain": [
              "  Journey_Purpose_of_Driver  Sex_of_Driver  Age_of_Driver Age_Band_of_Driver  \\\n",
              "0           Not known/Other              1             29            26 - 35   \n",
              "1           Not known/Other              1             51            46 - 55   \n",
              "2           Not known/Other              1             45            36 - 45   \n",
              "3           Not known/Other              1             27            26 - 35   \n",
              "4           Not known/Other              1             -1                NaN   \n",
              "\n",
              "  Driver_Home_Area_Type  \n",
              "0            Urban Area  \n",
              "1            Small Town  \n",
              "2            Urban Area  \n",
              "3            Urban Area  \n",
              "4            Urban Area  "
            ]
          },
          "execution_count": 45,
          "metadata": {},
          "output_type": "execute_result"
        }
      ],
      "source": [
        "map_df={1:'Journey as part of work',2:'Commuting to/from work',3:'Taking pupil to/from school',4:'Pupil riding to/from school',5:'Other',6:'Not known',15:'Not known/Other'}\n",
        "map_df_age={1:'0 - 5',2:'6 - 10',3:'11 - 15',4:'16 - 20',5:'21 - 25',6:'26 - 35',7:'36 - 45',8:'46 - 55',9:'56 - 65',10:'66 - 75',11:'Over 75'}\n",
        "map_df_area={1:'Urban Area',2:'Small Town',3:'Rural'}\n",
        "q1_df.Age_Band_of_Driver=q1_df.Age_Band_of_Driver.map(map_df_age)\n",
        "q1_df.Journey_Purpose_of_Driver=q1_df.Journey_Purpose_of_Driver.map(map_df)\n",
        "q1_df.Driver_Home_Area_Type=q1_df.Driver_Home_Area_Type.map(map_df_area)\n",
        "q1_df.head()"
      ]
    },
    {
      "cell_type": "code",
      "execution_count": null,
      "id": "ff50f1e8",
      "metadata": {
        "id": "ff50f1e8",
        "outputId": "2d650dd8-8b4c-4ba0-b2ed-dccbf532def2"
      },
      "outputs": [
        {
          "data": {
            "text/plain": [
              "<AxesSubplot:>"
            ]
          },
          "execution_count": 46,
          "metadata": {},
          "output_type": "execute_result"
        },
        {
          "data": {
            "image/png": "[encoded data removed]",
            "text/plain": [
              "<Figure size 432x288 with 2 Axes>"
            ]
          },
          "metadata": {
            "needs_background": "light"
          },
          "output_type": "display_data"
        }
      ],
      "source": [
        "sns.heatmap(q1_df.corr())"
      ]
    },
    {
      "cell_type": "code",
      "execution_count": null,
      "id": "4555b778",
      "metadata": {
        "id": "4555b778",
        "outputId": "c9fdccfd-feb3-45e1-a445-81d24e39d072"
      },
      "outputs": [
        {
          "name": "stderr",
          "output_type": "stream",
          "text": [
            "C:\\Users\\HP\\anaconda3\\lib\\site-packages\\seaborn\\_decorators.py:36: FutureWarning: Pass the following variables as keyword args: x, y. From version 0.12, the only valid positional argument will be `data`, and passing other arguments without an explicit keyword will result in an error or misinterpretation.\n",
            "  warnings.warn(\n"
          ]
        },
        {
          "data": {
            "text/plain": [
              "Text(0.5, 1.0, 'Journey Purpose of Driver vs Age_of_Driver')"
            ]
          },
          "execution_count": 47,
          "metadata": {},
          "output_type": "execute_result"
        },
        {
          "data": {
            "image/png": "[encoded data removed]",
            "text/plain": [
              "<Figure size 1224x288 with 1 Axes>"
            ]
          },
          "metadata": {
            "needs_background": "light"
          },
          "output_type": "display_data"
        }
      ],
      "source": [
        "import matplotlib.pyplot as plt\n",
        "plt.figure(figsize=(17,4))\n",
        "sns.barplot('Journey_Purpose_of_Driver','Age_of_Driver',hue='Sex_of_Driver',data=q1_df,ci=None, palette='Set2')\n",
        "plt.legend(bbox_to_anchor=(1,1))\n",
        "plt.title('Journey Purpose of Driver vs Age_of_Driver')"
      ]
    },
    {
      "cell_type": "code",
      "execution_count": null,
      "id": "a41c10f0",
      "metadata": {
        "id": "a41c10f0",
        "outputId": "88cdb6aa-b25f-4488-bc72-a826be71727d"
      },
      "outputs": [
        {
          "data": {
            "text/html": [
              "<div>\n",
              "<style scoped>\n",
              "    .dataframe tbody tr th:only-of-type {\n",
              "        vertical-align: middle;\n",
              "    }\n",
              "\n",
              "    .dataframe tbody tr th {\n",
              "        vertical-align: top;\n",
              "    }\n",
              "\n",
              "    .dataframe thead th {\n",
              "        text-align: right;\n",
              "    }\n",
              "</style>\n",
              "<table border=\"1\" class=\"dataframe\">\n",
              "  <thead>\n",
              "    <tr style=\"text-align: right;\">\n",
              "      <th></th>\n",
              "      <th>Journey_Purpose_of_Driver</th>\n",
              "      <th>Sex_of_Driver</th>\n",
              "      <th>Age_of_Driver</th>\n",
              "      <th>Age_Band_of_Driver</th>\n",
              "      <th>Driver_Home_Area_Type</th>\n",
              "      <th>Casualty_Severity</th>\n",
              "      <th>Accident_Severity</th>\n",
              "    </tr>\n",
              "  </thead>\n",
              "  <tbody>\n",
              "    <tr>\n",
              "      <th>0</th>\n",
              "      <td>Not known/Other</td>\n",
              "      <td>1</td>\n",
              "      <td>29</td>\n",
              "      <td>26 - 35</td>\n",
              "      <td>Urban Area</td>\n",
              "      <td>3</td>\n",
              "      <td>3</td>\n",
              "    </tr>\n",
              "    <tr>\n",
              "      <th>1</th>\n",
              "      <td>Not known/Other</td>\n",
              "      <td>1</td>\n",
              "      <td>51</td>\n",
              "      <td>46 - 55</td>\n",
              "      <td>Small Town</td>\n",
              "      <td>3</td>\n",
              "      <td>3</td>\n",
              "    </tr>\n",
              "    <tr>\n",
              "      <th>2</th>\n",
              "      <td>Not known/Other</td>\n",
              "      <td>1</td>\n",
              "      <td>45</td>\n",
              "      <td>36 - 45</td>\n",
              "      <td>Urban Area</td>\n",
              "      <td>3</td>\n",
              "      <td>3</td>\n",
              "    </tr>\n",
              "    <tr>\n",
              "      <th>3</th>\n",
              "      <td>Not known/Other</td>\n",
              "      <td>1</td>\n",
              "      <td>27</td>\n",
              "      <td>26 - 35</td>\n",
              "      <td>Urban Area</td>\n",
              "      <td>3</td>\n",
              "      <td>3</td>\n",
              "    </tr>\n",
              "    <tr>\n",
              "      <th>4</th>\n",
              "      <td>Not known/Other</td>\n",
              "      <td>1</td>\n",
              "      <td>-1</td>\n",
              "      <td>NaN</td>\n",
              "      <td>Urban Area</td>\n",
              "      <td>3</td>\n",
              "      <td>3</td>\n",
              "    </tr>\n",
              "  </tbody>\n",
              "</table>\n",
              "</div>"
            ],
            "text/plain": [
              "  Journey_Purpose_of_Driver  Sex_of_Driver  Age_of_Driver Age_Band_of_Driver  \\\n",
              "0           Not known/Other              1             29            26 - 35   \n",
              "1           Not known/Other              1             51            46 - 55   \n",
              "2           Not known/Other              1             45            36 - 45   \n",
              "3           Not known/Other              1             27            26 - 35   \n",
              "4           Not known/Other              1             -1                NaN   \n",
              "\n",
              "  Driver_Home_Area_Type  Casualty_Severity  Accident_Severity  \n",
              "0            Urban Area                  3                  3  \n",
              "1            Small Town                  3                  3  \n",
              "2            Urban Area                  3                  3  \n",
              "3            Urban Area                  3                  3  \n",
              "4            Urban Area                  3                  3  "
            ]
          },
          "execution_count": 48,
          "metadata": {},
          "output_type": "execute_result"
        }
      ],
      "source": [
        "q1a = pd.DataFrame(data=accident_pd, columns=['Journey_Purpose_of_Driver', 'Sex_of_Driver', 'Age_of_Driver','Age_Band_of_Driver','Driver_Home_Area_Type','Casualty_Severity','Accident_Severity'])\n",
        "q1a = q1a[q1a.Sex_of_Driver !=-1]\n",
        "mapq1a_df={1:'Journey as part of work',2:'Commuting to/from work',3:'Taking pupil to/from school',4:'Pupil riding to/from school',5:'Other',6:'Not known',15:'Not known/Other'}\n",
        "mapq1a_df_age={1:'0 - 5',2:'6 - 10',3:'11 - 15',4:'16 - 20',5:'21 - 25',6:'26 - 35',7:'36 - 45',8:'46 - 55',9:'56 - 65',10:'66 - 75',11:'Over 75'}\n",
        "mapq1a_df_area={1:'Urban Area',2:'Small Town',3:'Rural'}\n",
        "q1a.Age_Band_of_Driver=q1a.Age_Band_of_Driver.map(map_df_age)\n",
        "q1a.Journey_Purpose_of_Driver=q1a.Journey_Purpose_of_Driver.map(map_df)\n",
        "q1a.Driver_Home_Area_Type=q1a.Driver_Home_Area_Type.map(map_df_area)\n",
        "q1a.head()"
      ]
    },
    {
      "cell_type": "code",
      "execution_count": null,
      "id": "7a6a1085",
      "metadata": {
        "id": "7a6a1085",
        "outputId": "aba48f82-2bcf-436a-c3fb-6803a2066055"
      },
      "outputs": [
        {
          "name": "stderr",
          "output_type": "stream",
          "text": [
            "C:\\Users\\HP\\anaconda3\\lib\\site-packages\\seaborn\\_decorators.py:36: FutureWarning: Pass the following variables as keyword args: x, y. From version 0.12, the only valid positional argument will be `data`, and passing other arguments without an explicit keyword will result in an error or misinterpretation.\n",
            "  warnings.warn(\n"
          ]
        },
        {
          "data": {
            "text/plain": [
              "Text(0.5, 1.0, 'Accident_Severity vs Age_of_Driver')"
            ]
          },
          "execution_count": 49,
          "metadata": {},
          "output_type": "execute_result"
        },
        {
          "data": {
            "image/png": "[encoded data removed]",
            "text/plain": [
              "<Figure size 1224x288 with 1 Axes>"
            ]
          },
          "metadata": {
            "needs_background": "light"
          },
          "output_type": "display_data"
        }
      ],
      "source": [
        "import matplotlib.pyplot as plt\n",
        "plt.figure(figsize=(17,4))\n",
        "sns.barplot('Accident_Severity','Age_of_Driver',hue='Sex_of_Driver',data=q1a,ci=None, palette='Set2')\n",
        "plt.legend(bbox_to_anchor=(1,1))\n",
        "plt.title('Accident_Severity vs Age_of_Driver')"
      ]
    },
    {
      "cell_type": "code",
      "execution_count": null,
      "id": "1ba8291e",
      "metadata": {
        "id": "1ba8291e",
        "outputId": "9211af11-a676-43ed-c2b3-8f979fd20f66"
      },
      "outputs": [
        {
          "name": "stderr",
          "output_type": "stream",
          "text": [
            "C:\\Users\\HP\\anaconda3\\lib\\site-packages\\seaborn\\_decorators.py:36: FutureWarning: Pass the following variables as keyword args: x, y. From version 0.12, the only valid positional argument will be `data`, and passing other arguments without an explicit keyword will result in an error or misinterpretation.\n",
            "  warnings.warn(\n"
          ]
        },
        {
          "data": {
            "text/plain": [
              "Text(0.5, 1.0, 'Casualty_Severity vs Age_of_Driver')"
            ]
          },
          "execution_count": 50,
          "metadata": {},
          "output_type": "execute_result"
        },
        {
          "data": {
            "image/png": "[encoded data removed]",
            "text/plain": [
              "<Figure size 1224x288 with 1 Axes>"
            ]
          },
          "metadata": {
            "needs_background": "light"
          },
          "output_type": "display_data"
        }
      ],
      "source": [
        "import matplotlib.pyplot as plt\n",
        "plt.figure(figsize=(17,4))\n",
        "sns.barplot('Casualty_Severity','Age_of_Driver',hue='Sex_of_Driver',data=q1a,ci=None, palette='Set2')\n",
        "plt.legend(bbox_to_anchor=(1,1))\n",
        "plt.title('Casualty_Severity vs Age_of_Driver')"
      ]
    },
    {
      "cell_type": "code",
      "execution_count": null,
      "id": "2d4bdcb9",
      "metadata": {
        "id": "2d4bdcb9",
        "outputId": "05dacde9-506b-4be0-fd8c-147163192e46"
      },
      "outputs": [
        {
          "data": {
            "text/plain": [
              "<AxesSubplot:>"
            ]
          },
          "execution_count": 51,
          "metadata": {},
          "output_type": "execute_result"
        },
        {
          "data": {
            "image/png": "[encoded data removed]",
            "text/plain": [
              "<Figure size 432x288 with 2 Axes>"
            ]
          },
          "metadata": {
            "needs_background": "light"
          },
          "output_type": "display_data"
        }
      ],
      "source": [
        "#q2 : How the weather impact the number or severity of an accident?\n",
        "q2_df=pd.DataFrame(data=accident_pd,columns=['Accident_Severity','Light_Conditions','Weather_Conditions','Casualty_Severity'])\n",
        "q2_df=q2_df[q2_df.Weather_Conditions!=-1]\n",
        "sns.heatmap(q2_df.corr())"
      ]
    },
    {
      "cell_type": "code",
      "execution_count": null,
      "id": "35fac3a1",
      "metadata": {
        "id": "35fac3a1",
        "outputId": "ff89b2c3-ca19-4ba9-eb38-a65694a1052a"
      },
      "outputs": [
        {
          "data": {
            "text/plain": [
              "<AxesSubplot:xlabel='Accident_Severity', ylabel='count'>"
            ]
          },
          "execution_count": 52,
          "metadata": {},
          "output_type": "execute_result"
        },
        {
          "data": {
            "image/png": "[encoded data removed]",
            "text/plain": [
              "<Figure size 864x288 with 1 Axes>"
            ]
          },
          "metadata": {
            "needs_background": "light"
          },
          "output_type": "display_data"
        }
      ],
      "source": [
        "plt.figure(figsize=(12,4))\n",
        "sns.countplot(x='Accident_Severity',data=q2_df,hue='Weather_Conditions',palette='rainbow')"
      ]
    },
    {
      "cell_type": "code",
      "execution_count": null,
      "id": "35666206",
      "metadata": {
        "id": "35666206",
        "outputId": "1edec2d9-3246-49cb-acee-650b97977724"
      },
      "outputs": [
        {
          "data": {
            "text/plain": [
              "<AxesSubplot:xlabel='Casualty_Severity', ylabel='count'>"
            ]
          },
          "execution_count": 53,
          "metadata": {},
          "output_type": "execute_result"
        },
        {
          "data": {
            "image/png": "[encoded data removed]",
            "text/plain": [
              "<Figure size 864x288 with 1 Axes>"
            ]
          },
          "metadata": {
            "needs_background": "light"
          },
          "output_type": "display_data"
        }
      ],
      "source": [
        "plt.figure(figsize=(12,4))\n",
        "sns.countplot(x='Casualty_Severity',data=q2_df,hue='Weather_Conditions',palette='rainbow')"
      ]
    },
    {
      "cell_type": "code",
      "execution_count": null,
      "id": "d8eff097",
      "metadata": {
        "id": "d8eff097",
        "outputId": "3cef041d-c20b-4b77-af66-7ea4a269899a"
      },
      "outputs": [
        {
          "data": {
            "text/html": [
              "<div>\n",
              "<style scoped>\n",
              "    .dataframe tbody tr th:only-of-type {\n",
              "        vertical-align: middle;\n",
              "    }\n",
              "\n",
              "    .dataframe tbody tr th {\n",
              "        vertical-align: top;\n",
              "    }\n",
              "\n",
              "    .dataframe thead th {\n",
              "        text-align: right;\n",
              "    }\n",
              "</style>\n",
              "<table border=\"1\" class=\"dataframe\">\n",
              "  <thead>\n",
              "    <tr style=\"text-align: right;\">\n",
              "      <th></th>\n",
              "      <th>Vehicle_Type</th>\n",
              "      <th>Age_of_Vehicle</th>\n",
              "      <th>Was_Vehicle_Left_Hand_Drive?</th>\n",
              "      <th>Propulsion_Code</th>\n",
              "      <th>Engine_Capacity_(CC)</th>\n",
              "    </tr>\n",
              "  </thead>\n",
              "  <tbody>\n",
              "    <tr>\n",
              "      <th>0</th>\n",
              "      <td>19</td>\n",
              "      <td>8</td>\n",
              "      <td>1</td>\n",
              "      <td>2</td>\n",
              "      <td>1896</td>\n",
              "    </tr>\n",
              "    <tr>\n",
              "      <th>1</th>\n",
              "      <td>19</td>\n",
              "      <td>7</td>\n",
              "      <td>1</td>\n",
              "      <td>2</td>\n",
              "      <td>2299</td>\n",
              "    </tr>\n",
              "    <tr>\n",
              "      <th>2</th>\n",
              "      <td>9</td>\n",
              "      <td>-1</td>\n",
              "      <td>1</td>\n",
              "      <td>1</td>\n",
              "      <td>1999</td>\n",
              "    </tr>\n",
              "    <tr>\n",
              "      <th>3</th>\n",
              "      <td>5</td>\n",
              "      <td>-1</td>\n",
              "      <td>1</td>\n",
              "      <td>1</td>\n",
              "      <td>645</td>\n",
              "    </tr>\n",
              "    <tr>\n",
              "      <th>4</th>\n",
              "      <td>9</td>\n",
              "      <td>3</td>\n",
              "      <td>1</td>\n",
              "      <td>1</td>\n",
              "      <td>1598</td>\n",
              "    </tr>\n",
              "  </tbody>\n",
              "</table>\n",
              "</div>"
            ],
            "text/plain": [
              "   Vehicle_Type  Age_of_Vehicle  Was_Vehicle_Left_Hand_Drive?  \\\n",
              "0            19               8                             1   \n",
              "1            19               7                             1   \n",
              "2             9              -1                             1   \n",
              "3             5              -1                             1   \n",
              "4             9               3                             1   \n",
              "\n",
              "   Propulsion_Code  Engine_Capacity_(CC)  \n",
              "0                2                  1896  \n",
              "1                2                  2299  \n",
              "2                1                  1999  \n",
              "3                1                   645  \n",
              "4                1                  1598  "
            ]
          },
          "execution_count": 54,
          "metadata": {},
          "output_type": "execute_result"
        }
      ],
      "source": [
        "#q3 : Are certain car models safer than others?\n",
        "q3_df=pd.DataFrame(data=accident_pd,columns=['Vehicle_Type','Age_of_Vehicle','Was_Vehicle_Left_Hand_Drive?'\n",
        "                                    ,'Propulsion_Code','Engine_Capacity_(CC)'])\n",
        "q3_df=q3_df[q3_df.Vehicle_Type!=-1]\n",
        "q3_df.head()"
      ]
    },
    {
      "cell_type": "code",
      "execution_count": null,
      "id": "a219bdf0",
      "metadata": {
        "id": "a219bdf0"
      },
      "outputs": [],
      "source": [
        "q3_df=q3_df[q3_df.Age_of_Vehicle!=-1]\n",
        "q3_df=q3_df[q3_df.Propulsion_Code!=-1]\n",
        "q3_df=q3_df[q3_df['Engine_Capacity_(CC)']!=-1]"
      ]
    },
    {
      "cell_type": "code",
      "execution_count": null,
      "id": "a44bf36a",
      "metadata": {
        "id": "a44bf36a"
      },
      "outputs": [],
      "source": [
        "map_vehicle_type={1:'Pedal cycle',\n",
        "2:'Motorcycle 50cc and under',\n",
        "3:'Motorcycle 125cc and under',\n",
        "4:'Motorcycle over 125cc and up to 500cc',\n",
        "5:'Motorcycle over 500cc',\n",
        "8:'Taxi/Private hire car',\n",
        "9:'Car',\n",
        "10:'Minibus (8 - 16 passenger seats)',\n",
        "11:'Bus or coach (17 or more pass seats)',\n",
        "16:'Ridden horse',\n",
        "17:'Agricultural vehicle',\n",
        "18:'Tram',\n",
        "19:'Van / Goods 3.5 tonnes mgw or under',\n",
        "20:'Goods over 3.5t. and under 7.5t',\n",
        "21:'Goods 7.5 tonnes mgw and over',\n",
        "22:'Mobility scooter',\n",
        "23:'Electric motorcycle',\n",
        "90:'Other vehicle',\n",
        "97:'Motorcycle - unknown cc',\n",
        "98:'Goods vehicle - unknown weight'\n",
        "}\n",
        "q3_df['Vehicle_Type']=q3_df.Vehicle_Type.map(map_vehicle_type)"
      ]
    },
    {
      "cell_type": "code",
      "execution_count": null,
      "id": "8ea0a15b",
      "metadata": {
        "id": "8ea0a15b"
      },
      "outputs": [],
      "source": [
        "map_prop={1:'Petrol',\n",
        "2:'Heavy oil',\n",
        "3:'Electric',\n",
        "4:'Steam',\n",
        "5:'Gas',\n",
        "6:'Petrol/Gas (LPG)',\n",
        "7:'Gas/Bi-fuel',\n",
        "8:'Hybrid electric',\n",
        "9:'Gas Diesel',\n",
        "10:'New fuel technology',\n",
        "11:'Fuel cells',\n",
        "12:'Electric diesel'\n",
        "}\n",
        "q3_df['Propulsion_Code']=q3_df.Propulsion_Code.map(map_prop)"
      ]
    },
    {
      "cell_type": "code",
      "execution_count": null,
      "id": "219073e9",
      "metadata": {
        "id": "219073e9",
        "outputId": "f7621689-f09d-4b28-87e7-948cbae4d587"
      },
      "outputs": [
        {
          "data": {
            "text/html": [
              "<div>\n",
              "<style scoped>\n",
              "    .dataframe tbody tr th:only-of-type {\n",
              "        vertical-align: middle;\n",
              "    }\n",
              "\n",
              "    .dataframe tbody tr th {\n",
              "        vertical-align: top;\n",
              "    }\n",
              "\n",
              "    .dataframe thead th {\n",
              "        text-align: right;\n",
              "    }\n",
              "</style>\n",
              "<table border=\"1\" class=\"dataframe\">\n",
              "  <thead>\n",
              "    <tr style=\"text-align: right;\">\n",
              "      <th></th>\n",
              "      <th>Vehicle_Type</th>\n",
              "      <th>Age_of_Vehicle</th>\n",
              "      <th>Was_Vehicle_Left_Hand_Drive?</th>\n",
              "      <th>Propulsion_Code</th>\n",
              "      <th>Engine_Capacity_(CC)</th>\n",
              "    </tr>\n",
              "  </thead>\n",
              "  <tbody>\n",
              "    <tr>\n",
              "      <th>0</th>\n",
              "      <td>Van / Goods 3.5 tonnes mgw or under</td>\n",
              "      <td>8</td>\n",
              "      <td>1</td>\n",
              "      <td>Heavy oil</td>\n",
              "      <td>1896</td>\n",
              "    </tr>\n",
              "    <tr>\n",
              "      <th>1</th>\n",
              "      <td>Van / Goods 3.5 tonnes mgw or under</td>\n",
              "      <td>7</td>\n",
              "      <td>1</td>\n",
              "      <td>Heavy oil</td>\n",
              "      <td>2299</td>\n",
              "    </tr>\n",
              "    <tr>\n",
              "      <th>4</th>\n",
              "      <td>Car</td>\n",
              "      <td>3</td>\n",
              "      <td>1</td>\n",
              "      <td>Petrol</td>\n",
              "      <td>1598</td>\n",
              "    </tr>\n",
              "    <tr>\n",
              "      <th>5</th>\n",
              "      <td>Car</td>\n",
              "      <td>6</td>\n",
              "      <td>1</td>\n",
              "      <td>Petrol</td>\n",
              "      <td>2946</td>\n",
              "    </tr>\n",
              "    <tr>\n",
              "      <th>7</th>\n",
              "      <td>Car</td>\n",
              "      <td>3</td>\n",
              "      <td>1</td>\n",
              "      <td>Heavy oil</td>\n",
              "      <td>1896</td>\n",
              "    </tr>\n",
              "  </tbody>\n",
              "</table>\n",
              "</div>"
            ],
            "text/plain": [
              "                          Vehicle_Type  Age_of_Vehicle  \\\n",
              "0  Van / Goods 3.5 tonnes mgw or under               8   \n",
              "1  Van / Goods 3.5 tonnes mgw or under               7   \n",
              "4                                  Car               3   \n",
              "5                                  Car               6   \n",
              "7                                  Car               3   \n",
              "\n",
              "   Was_Vehicle_Left_Hand_Drive? Propulsion_Code  Engine_Capacity_(CC)  \n",
              "0                             1       Heavy oil                  1896  \n",
              "1                             1       Heavy oil                  2299  \n",
              "4                             1          Petrol                  1598  \n",
              "5                             1          Petrol                  2946  \n",
              "7                             1       Heavy oil                  1896  "
            ]
          },
          "execution_count": 58,
          "metadata": {},
          "output_type": "execute_result"
        }
      ],
      "source": [
        "q3_df=q3_df[q3_df['Was_Vehicle_Left_Hand_Drive?']!=-1]\n",
        "q3_df.head()"
      ]
    },
    {
      "cell_type": "code",
      "execution_count": null,
      "id": "c04a336a",
      "metadata": {
        "id": "c04a336a",
        "outputId": "92e5825f-8149-4738-b64b-c67713a660e6"
      },
      "outputs": [
        {
          "name": "stderr",
          "output_type": "stream",
          "text": [
            "C:\\Users\\HP\\anaconda3\\lib\\site-packages\\seaborn\\_decorators.py:36: FutureWarning: Pass the following variable as a keyword arg: x. From version 0.12, the only valid positional argument will be `data`, and passing other arguments without an explicit keyword will result in an error or misinterpretation.\n",
            "  warnings.warn(\n"
          ]
        },
        {
          "data": {
            "text/plain": [
              "(array([ 0,  1,  2,  3,  4,  5,  6,  7,  8,  9, 10, 11, 12, 13]),\n",
              " [Text(0, 0, 'Van / Goods 3.5 tonnes mgw or under'),\n",
              "  Text(1, 0, 'Car'),\n",
              "  Text(2, 0, 'Motorcycle over 125cc and up to 500cc'),\n",
              "  Text(3, 0, 'Taxi/Private hire car'),\n",
              "  Text(4, 0, 'Motorcycle over 500cc'),\n",
              "  Text(5, 0, 'Motorcycle 125cc and under'),\n",
              "  Text(6, 0, 'Bus or coach (17 or more pass seats)'),\n",
              "  Text(7, 0, 'Motorcycle 50cc and under'),\n",
              "  Text(8, 0, 'Goods 7.5 tonnes mgw and over'),\n",
              "  Text(9, 0, 'Minibus (8 - 16 passenger seats)'),\n",
              "  Text(10, 0, 'Other vehicle'),\n",
              "  Text(11, 0, 'Goods over 3.5t. and under 7.5t'),\n",
              "  Text(12, 0, 'Agricultural vehicle'),\n",
              "  Text(13, 0, 'Motorcycle - unknown cc')])"
            ]
          },
          "execution_count": 59,
          "metadata": {},
          "output_type": "execute_result"
        },
        {
          "data": {
            "image/png": "[encoded data removed]",
            "text/plain": [
              "<Figure size 864x288 with 1 Axes>"
            ]
          },
          "metadata": {
            "needs_background": "light"
          },
          "output_type": "display_data"
        }
      ],
      "source": [
        "plt.figure(figsize=(12,4))\n",
        "sns.countplot('Vehicle_Type',data=q3_df, palette='rainbow')\n",
        "plt.xticks(rotation=90)"
      ]
    },
    {
      "cell_type": "code",
      "execution_count": null,
      "id": "34a753a7",
      "metadata": {
        "scrolled": false,
        "id": "34a753a7",
        "outputId": "1d9674a9-3be6-497c-b9c8-ded93e64d620"
      },
      "outputs": [
        {
          "name": "stderr",
          "output_type": "stream",
          "text": [
            "C:\\Users\\HP\\anaconda3\\lib\\site-packages\\seaborn\\_decorators.py:36: FutureWarning: Pass the following variable as a keyword arg: x. From version 0.12, the only valid positional argument will be `data`, and passing other arguments without an explicit keyword will result in an error or misinterpretation.\n",
            "  warnings.warn(\n"
          ]
        },
        {
          "data": {
            "text/plain": [
              "(array([ 0,  1,  2,  3,  4,  5,  6,  7,  8,  9, 10, 11, 12, 13]),\n",
              " [Text(0, 0, 'Van / Goods 3.5 tonnes mgw or under'),\n",
              "  Text(1, 0, 'Car'),\n",
              "  Text(2, 0, 'Motorcycle over 125cc and up to 500cc'),\n",
              "  Text(3, 0, 'Taxi/Private hire car'),\n",
              "  Text(4, 0, 'Motorcycle over 500cc'),\n",
              "  Text(5, 0, 'Motorcycle 125cc and under'),\n",
              "  Text(6, 0, 'Bus or coach (17 or more pass seats)'),\n",
              "  Text(7, 0, 'Motorcycle 50cc and under'),\n",
              "  Text(8, 0, 'Goods 7.5 tonnes mgw and over'),\n",
              "  Text(9, 0, 'Minibus (8 - 16 passenger seats)'),\n",
              "  Text(10, 0, 'Other vehicle'),\n",
              "  Text(11, 0, 'Goods over 3.5t. and under 7.5t'),\n",
              "  Text(12, 0, 'Agricultural vehicle'),\n",
              "  Text(13, 0, 'Motorcycle - unknown cc')])"
            ]
          },
          "execution_count": 60,
          "metadata": {},
          "output_type": "execute_result"
        },
        {
          "data": {
            "image/png": "[encoded data removed]",
            "text/plain": [
              "<Figure size 864x288 with 1 Axes>"
            ]
          },
          "metadata": {
            "needs_background": "light"
          },
          "output_type": "display_data"
        }
      ],
      "source": [
        "plt.figure(figsize=(12,4))\n",
        "sns.countplot('Vehicle_Type',data=q3_df, hue='Was_Vehicle_Left_Hand_Drive?', palette='Set2')\n",
        "plt.xticks(rotation=90)"
      ]
    },
    {
      "cell_type": "code",
      "execution_count": null,
      "id": "3de8006a",
      "metadata": {
        "id": "3de8006a",
        "outputId": "c310a3ec-a3a9-497a-cb50-44647c5fa25a"
      },
      "outputs": [
        {
          "name": "stderr",
          "output_type": "stream",
          "text": [
            "C:\\Users\\HP\\anaconda3\\lib\\site-packages\\seaborn\\_decorators.py:36: FutureWarning: Pass the following variables as keyword args: x, y. From version 0.12, the only valid positional argument will be `data`, and passing other arguments without an explicit keyword will result in an error or misinterpretation.\n",
            "  warnings.warn(\n"
          ]
        },
        {
          "data": {
            "text/plain": [
              "<matplotlib.legend.Legend at 0x26b28dd1430>"
            ]
          },
          "execution_count": 61,
          "metadata": {},
          "output_type": "execute_result"
        },
        {
          "data": {
            "image/png": "[encoded data removed]",
            "text/plain": [
              "<Figure size 864x288 with 1 Axes>"
            ]
          },
          "metadata": {
            "needs_background": "light"
          },
          "output_type": "display_data"
        }
      ],
      "source": [
        "plt.figure(figsize=(12,4))\n",
        "sns.barplot('Vehicle_Type','Engine_Capacity_(CC)',data=q3_df, hue='Propulsion_Code', palette='Set2',ci=None)\n",
        "plt.xticks(rotation=90)\n",
        "plt.legend(bbox_to_anchor=(1,1))"
      ]
    },
    {
      "cell_type": "code",
      "execution_count": null,
      "id": "2968c478",
      "metadata": {
        "id": "2968c478"
      },
      "outputs": [],
      "source": []
    },
    {
      "cell_type": "code",
      "execution_count": null,
      "id": "6a6f5db3",
      "metadata": {
        "id": "6a6f5db3"
      },
      "outputs": [],
      "source": [
        "#machine learning"
      ]
    },
    {
      "cell_type": "code",
      "execution_count": null,
      "id": "808f2cb6",
      "metadata": {
        "id": "808f2cb6"
      },
      "outputs": [],
      "source": [
        "from pyspark.ml.classification import LogisticRegression\n",
        "from pyspark.ml.feature import VectorAssembler\n",
        "assembler = VectorAssembler(inputCols=['Police_Force','Accident_Severity','Number_of_Vehicles','Number_of_Casualties','Day_of_Week','Local_Authority_(District)','1st_Road_Class','1st_Road_Number','Road_Type','Speed_limit','Junction_Detail','Junction_Control','2nd_Road_Class','2nd_Road_Number','Pedestrian_Crossing-Human_Control','Pedestrian_Crossing-Physical_Facilities','Light_Conditions','Weather_Conditions','Road_Surface_Conditions','Special_Conditions_at_Site','Carriageway_Hazards','Urban_or_Rural_Area','Did_Police_Officer_Attend_Scene_of_Accident', 'Vehicle_Reference','Casualty_Reference','Casualty_Class','Sex_of_Casualty','Age_of_Casualty','Age_Band_of_Casualty','Pedestrian_Location','Pedestrian_Movement','Car_Passenger','Bus_or_Coach_Passenger','Pedestrian_Road_Maintenance_Worker','Casualty_Type','Casualty_Home_Area_Type', 'Vehicle_Type','Towing_and_Articulation','Vehicle_Manoeuvre','Vehicle_Location-Restricted_Lane','Junction_Location','Skidding_and_Overturning','Hit_Object_in_Carriageway','Vehicle_Leaving_Carriageway','Hit_Object_off_Carriageway','1st_Point_of_Impact','Was_Vehicle_Left_Hand_Drive?','Journey_Purpose_of_Driver','Sex_of_Driver','Age_of_Driver','Age_Band_of_Driver','Engine_Capacity_(CC)','Propulsion_Code','Age_of_Vehicle','Driver_IMD_Decile','Driver_Home_Area_Type'], outputCol='features')\n",
        "accidents = assembler.setHandleInvalid(\"skip\").transform(accidents)"
      ]
    },
    {
      "cell_type": "code",
      "execution_count": null,
      "id": "3d5a0251",
      "metadata": {
        "id": "3d5a0251",
        "outputId": "eb2ae33b-6a67-4888-bdda-6bbccaa94e2e"
      },
      "outputs": [
        {
          "data": {
            "text/plain": [
              "VectorAssembler_ef742c4bbff1"
            ]
          },
          "execution_count": 64,
          "metadata": {},
          "output_type": "execute_result"
        }
      ],
      "source": [
        "VectorAssembler(inputCols=['Police_Force','Accident_Severity','Number_of_Vehicles','Number_of_Casualties','Day_of_Week','Local_Authority_(District)','1st_Road_Class','1st_Road_Number','Road_Type','Speed_limit','Junction_Detail','Junction_Control','2nd_Road_Class','2nd_Road_Number','Pedestrian_Crossing-Human_Control','Pedestrian_Crossing-Physical_Facilities','Light_Conditions','Weather_Conditions','Road_Surface_Conditions','Special_Conditions_at_Site','Carriageway_Hazards','Urban_or_Rural_Area','Did_Police_Officer_Attend_Scene_of_Accident', 'Vehicle_Reference','Casualty_Reference','Casualty_Class','Sex_of_Casualty','Age_of_Casualty','Age_Band_of_Casualty','Pedestrian_Location','Pedestrian_Movement','Car_Passenger','Bus_or_Coach_Passenger','Pedestrian_Road_Maintenance_Worker','Casualty_Type','Casualty_Home_Area_Type', 'Vehicle_Type','Towing_and_Articulation','Vehicle_Manoeuvre','Vehicle_Location-Restricted_Lane','Junction_Location','Skidding_and_Overturning','Hit_Object_in_Carriageway','Vehicle_Leaving_Carriageway','Hit_Object_off_Carriageway','1st_Point_of_Impact','Was_Vehicle_Left_Hand_Drive?','Journey_Purpose_of_Driver','Sex_of_Driver','Age_of_Driver','Age_Band_of_Driver','Engine_Capacity_(CC)','Propulsion_Code','Age_of_Vehicle','Driver_IMD_Decile','Driver_Home_Area_Type'], outputCol='features')"
      ]
    },
    {
      "cell_type": "code",
      "execution_count": null,
      "id": "bbabc176",
      "metadata": {
        "id": "bbabc176"
      },
      "outputs": [],
      "source": [
        "# data splitting\n",
        "training,testing = accidents.randomSplit([0.7,0.3])"
      ]
    },
    {
      "cell_type": "code",
      "execution_count": null,
      "id": "5ab31041",
      "metadata": {
        "id": "5ab31041",
        "outputId": "d78bc8b9-5062-4202-f24e-7ba9f1c89c76"
      },
      "outputs": [
        {
          "name": "stdout",
          "output_type": "stream",
          "text": [
            "+--------------+------------+-----------------+------------------+--------------------+-----------+--------------------------+-------------------------+--------------+---------------+---------+-----------+---------------+----------------+--------------+---------------+---------------------------------+---------------------------------------+----------------+------------------+-----------------------+--------------------------+-------------------+-------------------+-------------------------------------------+-----------------+------------------+--------------+---------------+---------------+--------------------+-----------------+-------------------+-------------------+-------------+----------------------+----------------------------------+-------------+-----------------------+------------+-----------------------+-----------------+--------------------------------+-----------------+------------------------+-------------------------+---------------------------+--------------------------+-------------------+----------------------------+-------------------------+-------------+-------------+------------------+--------------------+---------------+--------------+-----------------+---------------------+--------------------+\n",
            "|Accident_Index|Police_Force|Accident_Severity|Number_of_Vehicles|Number_of_Casualties|Day_of_Week|Local_Authority_(District)|Local_Authority_(Highway)|1st_Road_Class|1st_Road_Number|Road_Type|Speed_limit|Junction_Detail|Junction_Control|2nd_Road_Class|2nd_Road_Number|Pedestrian_Crossing-Human_Control|Pedestrian_Crossing-Physical_Facilities|Light_Conditions|Weather_Conditions|Road_Surface_Conditions|Special_Conditions_at_Site|Carriageway_Hazards|Urban_or_Rural_Area|Did_Police_Officer_Attend_Scene_of_Accident|Vehicle_Reference|Casualty_Reference|Casualty_Class|Sex_of_Casualty|Age_of_Casualty|Age_Band_of_Casualty|Casualty_Severity|Pedestrian_Location|Pedestrian_Movement|Car_Passenger|Bus_or_Coach_Passenger|Pedestrian_Road_Maintenance_Worker|Casualty_Type|Casualty_Home_Area_Type|Vehicle_Type|Towing_and_Articulation|Vehicle_Manoeuvre|Vehicle_Location-Restricted_Lane|Junction_Location|Skidding_and_Overturning|Hit_Object_in_Carriageway|Vehicle_Leaving_Carriageway|Hit_Object_off_Carriageway|1st_Point_of_Impact|Was_Vehicle_Left_Hand_Drive?|Journey_Purpose_of_Driver|Sex_of_Driver|Age_of_Driver|Age_Band_of_Driver|Engine_Capacity_(CC)|Propulsion_Code|Age_of_Vehicle|Driver_IMD_Decile|Driver_Home_Area_Type|            features|\n",
            "+--------------+------------+-----------------+------------------+--------------------+-----------+--------------------------+-------------------------+--------------+---------------+---------+-----------+---------------+----------------+--------------+---------------+---------------------------------+---------------------------------------+----------------+------------------+-----------------------+--------------------------+-------------------+-------------------+-------------------------------------------+-----------------+------------------+--------------+---------------+---------------+--------------------+-----------------+-------------------+-------------------+-------------+----------------------+----------------------------------+-------------+-----------------------+------------+-----------------------+-----------------+--------------------------------+-----------------+------------------------+-------------------------+---------------------------+--------------------------+-------------------+----------------------------+-------------------------+-------------+-------------+------------------+--------------------+---------------+--------------+-----------------+---------------------+--------------------+\n",
            "| 200501BS70044|           1|                3|                 2|                   1|          5|                        12|                E09000020|             3|           3217|        6|         30|              6|               2|             3|           3220|                                0|                                      5|               1|                 1|                      2|                         0|                  0|                  1|                                          1|                2|                 1|             1|              1|             29|                   6|                3|                  0|                  0|            0|                     0|                                -1|            3|                      1|           3|                      0|               18|                               0|                8|                       0|                        0|                          0|                         0|                  1|                           1|                       15|            1|           29|                 6|                 124|              1|             1|                6|                    1|[1.0,3.0,2.0,1.0,...|\n",
            "| 200501BS70192|           1|                3|                 2|                   1|          4|                        12|                E09000020|             5|              0|        6|         30|              0|              -1|            -1|              0|                                0|                                      5|               1|                 1|                      1|                         0|                  0|                  1|                                          1|                1|                 1|             3|              1|             19|                   4|                3|                  8|                  8|            0|                     0|                                -1|            0|                      2|          19|                      0|                2|                               0|                0|                       0|                        0|                          0|                         0|                  0|                           1|                       15|            1|           51|                 8|                2299|              2|             7|                8|                    2|[1.0,3.0,2.0,1.0,...|\n",
            "| 200501BS70192|           1|                3|                 2|                   1|          4|                        12|                E09000020|             5|              0|        6|         30|              0|              -1|            -1|              0|                                0|                                      5|               1|                 1|                      1|                         0|                  0|                  1|                                          1|                1|                 1|             3|              1|             19|                   4|                3|                  8|                  8|            0|                     0|                                -1|            0|                      2|          19|                      0|               18|                               0|                0|                       0|                        0|                          0|                         0|                  3|                           1|                       15|            1|           29|                 6|                1896|              2|             8|                5|                    1|[1.0,3.0,2.0,1.0,...|\n",
            "| 200501BS70270|           1|                3|                 2|                   1|          4|                        12|                E09000020|             3|            315|        3|         30|              0|              -1|            -1|              0|                                0|                                      0|               4|                 1|                      1|                         0|                  0|                  1|                                          1|                2|                 1|             1|              1|             42|                   7|                3|                  0|                  0|            0|                     0|                                -1|            1|                     -1|           9|                      0|               13|                               0|                0|                       0|                        0|                          0|                         0|                  1|                           1|                       15|            3|           -1|                -1|                  -1|             -1|            -1|               -1|                   -1|[1.0,3.0,2.0,1.0,...|\n",
            "| 200501BS70276|           1|                2|                 1|                   1|          5|                        12|                E09000020|             4|            450|        6|         30|              0|              -1|            -1|              0|                                0|                                      0|               4|                 1|                      1|                         0|                  0|                  1|                                          1|                1|                 1|             2|              2|             53|                   8|                2|                  0|                  0|            0|                     2|                                -1|           11|                     -1|          11|                      0|                2|                               0|                0|                       0|                        0|                          0|                         0|                  4|                           1|                        1|            1|           38|                 7|                8300|              2|             5|                1|                    1|[1.0,2.0,1.0,1.0,...|\n",
            "+--------------+------------+-----------------+------------------+--------------------+-----------+--------------------------+-------------------------+--------------+---------------+---------+-----------+---------------+----------------+--------------+---------------+---------------------------------+---------------------------------------+----------------+------------------+-----------------------+--------------------------+-------------------+-------------------+-------------------------------------------+-----------------+------------------+--------------+---------------+---------------+--------------------+-----------------+-------------------+-------------------+-------------+----------------------+----------------------------------+-------------+-----------------------+------------+-----------------------+-----------------+--------------------------------+-----------------+------------------------+-------------------------+---------------------------+--------------------------+-------------------+----------------------------+-------------------------+-------------+-------------+------------------+--------------------+---------------+--------------+-----------------+---------------------+--------------------+\n",
            "only showing top 5 rows\n",
            "\n"
          ]
        }
      ],
      "source": [
        "training.show(5)"
      ]
    },
    {
      "cell_type": "code",
      "execution_count": null,
      "id": "37188735",
      "metadata": {
        "id": "37188735",
        "outputId": "38824f58-a4e6-4553-d4b6-e229b54bc4ef"
      },
      "outputs": [
        {
          "data": {
            "text/plain": [
              "15055"
            ]
          },
          "execution_count": 67,
          "metadata": {},
          "output_type": "execute_result"
        }
      ],
      "source": [
        "testing.count()"
      ]
    },
    {
      "cell_type": "code",
      "execution_count": null,
      "id": "7f5d1479",
      "metadata": {
        "id": "7f5d1479",
        "outputId": "dd25a89d-bea2-472a-dcd0-e826030aea9f"
      },
      "outputs": [
        {
          "data": {
            "text/plain": [
              "34945"
            ]
          },
          "execution_count": 68,
          "metadata": {},
          "output_type": "execute_result"
        }
      ],
      "source": [
        "training.count()"
      ]
    },
    {
      "cell_type": "code",
      "execution_count": null,
      "id": "9c8b89cb",
      "metadata": {
        "id": "9c8b89cb"
      },
      "outputs": [],
      "source": [
        "accidents = accidents.select(['features','Casualty_Severity'])"
      ]
    },
    {
      "cell_type": "code",
      "execution_count": null,
      "id": "5db83c75",
      "metadata": {
        "id": "5db83c75"
      },
      "outputs": [],
      "source": [
        "Lr = LogisticRegression(maxIter=10, labelCol='Casualty_Severity')"
      ]
    },
    {
      "cell_type": "code",
      "execution_count": null,
      "id": "c8b6974a",
      "metadata": {
        "id": "c8b6974a"
      },
      "outputs": [],
      "source": [
        "LR = Lr.fit(accidents)"
      ]
    },
    {
      "cell_type": "code",
      "execution_count": null,
      "id": "92e563da",
      "metadata": {
        "id": "92e563da",
        "outputId": "d4833bbb-561e-46af-d925-0e9e3d560ede"
      },
      "outputs": [
        {
          "data": {
            "text/plain": [
              "<pyspark.ml.classification.LogisticRegressionTrainingSummary at 0x26b1380c0a0>"
            ]
          },
          "execution_count": 72,
          "metadata": {},
          "output_type": "execute_result"
        }
      ],
      "source": [
        "trainSummary = LR.summary\n",
        "trainSummary"
      ]
    },
    {
      "cell_type": "code",
      "execution_count": null,
      "id": "3ef331d3",
      "metadata": {
        "scrolled": true,
        "id": "3ef331d3"
      },
      "outputs": [],
      "source": [
        "from pyspark.sql.functions import abs\n",
        "predictions = LR.transform(testing)"
      ]
    },
    {
      "cell_type": "code",
      "execution_count": null,
      "id": "7531c796",
      "metadata": {
        "id": "7531c796",
        "outputId": "1ae9f61b-18cc-441c-9dfa-f3ad3df08027"
      },
      "outputs": [
        {
          "name": "stdout",
          "output_type": "stream",
          "text": [
            "+----------+-----------------+\n",
            "|prediction|Casualty_Severity|\n",
            "+----------+-----------------+\n",
            "|       3.0|              3.0|\n",
            "|       3.0|              3.0|\n",
            "|       3.0|              3.0|\n",
            "|       3.0|              3.0|\n",
            "|       3.0|              3.0|\n",
            "+----------+-----------------+\n",
            "only showing top 5 rows\n",
            "\n"
          ]
        }
      ],
      "source": [
        "from pyspark.sql.types import *\n",
        "predictions = predictions.withColumn(\"Casualty_Severity\", predictions[\"Casualty_Severity\"].cast(DoubleType()))\n",
        "predictions.select('prediction','Casualty_Severity').show(5)"
      ]
    },
    {
      "cell_type": "code",
      "execution_count": null,
      "id": "e31666ab",
      "metadata": {
        "id": "e31666ab",
        "outputId": "1e853478-a1c0-442b-e2a6-3705499f6f11"
      },
      "outputs": [
        {
          "data": {
            "text/plain": [
              "0.936541895393897"
            ]
          },
          "execution_count": 75,
          "metadata": {},
          "output_type": "execute_result"
        }
      ],
      "source": [
        "from pyspark.ml.evaluation import MulticlassClassificationEvaluator\n",
        "\n",
        "evaluator = MulticlassClassificationEvaluator(labelCol=\"Casualty_Severity\", predictionCol=\"prediction\")\n",
        "accuracy = evaluator.evaluate(predictions)\n",
        "accuracy\n"
      ]
    },
    {
      "cell_type": "code",
      "execution_count": null,
      "id": "058549db",
      "metadata": {
        "id": "058549db"
      },
      "outputs": [],
      "source": []
    }
  ],
  "metadata": {
    "kernelspec": {
      "display_name": "Python 3",
      "language": "python",
      "name": "python3"
    },
    "language_info": {
      "codemirror_mode": {
        "name": "ipython",
        "version": 3
      },
      "file_extension": ".py",
      "mimetype": "text/x-python",
      "name": "python",
      "nbconvert_exporter": "python",
      "pygments_lexer": "ipython3",
      "version": "3.8.8"
    },
    "colab": {
      "provenance": []
    }
  },
  "nbformat": 4,
  "nbformat_minor": 5
}